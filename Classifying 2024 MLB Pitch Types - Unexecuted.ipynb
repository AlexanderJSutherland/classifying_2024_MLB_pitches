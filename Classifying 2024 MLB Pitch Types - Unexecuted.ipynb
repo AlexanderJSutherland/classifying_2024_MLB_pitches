{
 "cells": [
  {
   "cell_type": "markdown",
   "id": "f2d89652-1a72-4f8f-ad0c-973c0dd615e7",
   "metadata": {},
   "source": [
    "# Table of Contents\n",
    "\n",
    "\n",
    "--------------------------------\n",
    "\n",
    "* ## [1 - Introduction](#1)\n",
    "    + ### [1.1 - A Note on Metrics](1.1)\n",
    "    + ### [1.2 - Data Collection](#1.2)\n",
    "    + ### [1.3 - Importing Necessary Packages](#1.3)\n",
    "    + ### [1.4 - Importing the Dataframe](#1.4)\n",
    "\n",
    "\n",
    "* ## [2 - Early Data Analysis / Visualizations](#2)\n",
    "    + ### [2.1 - `release_speed`](2.1)\n",
    "    + ### [2.2 - `effective_speed`](2.2)\n",
    "    + ### [2.3 - `pfx_x`](2.3)\n",
    "        + #### [2.3.1 - `pfx_x` for Right-Handed Pitchers](2.3.1)\n",
    "        + #### [2.3.2 - `pfx_x` for Left-Handed Pitchers](2.3.2)\n",
    "    + ### [2.4 - `pfx_z`](2.4)\n",
    "    + ### [2.5 - `plate_x`](2.5)\n",
    "        + #### [2.5.1 - `plate_x` for Right-Handed Pitchers](2.5.1)\n",
    "        + #### [2.5.2 - `plate_x` for Left-Handed Pitchers](2.5.2)\n",
    "    + ### [2.6 - `plate_z`](2.6)\n",
    "    + ### [2.7 - `vx0`](2.7)\n",
    "        + #### [2.7.1 - `vx0` for Right-Handed Pitchers](2.7.1)\n",
    "        + #### [2.7.2 - `vx0` for Left-Handed Pitchers](2.7.2)\n",
    "    + ### [2.8 - `vy0`](2.8)\n",
    "    + ### [2.9 - `vz0`](2.9)\n",
    "    + ### [2.10 - `ax`](2.10)\n",
    "        + #### [2.10.1 - `ax` for Right-Handed Pitchers](2.10.1)\n",
    "        + #### [2.10.2 - `ax` for Left-Handed Pitchers](2.10.2)\n",
    "    + ### [2.11 - `ay`](2.11)\n",
    "    + ### [2.12 - `az`](2.12)\n",
    "    + ### [2.13 - `release_spin_rate`](2.13)\n",
    "    + ### [2.14 - `spin_axis`](2.14)\n",
    "        + #### [2.14.1 - `spin_axis` for Right-Handed Pitchers](2.14.1)\n",
    "        + #### [2.14.2 - `spin_axis` for Left-Handed Pitchers](2.14.1)\n",
    "    + ### [2.15 - `arm_angle`](2.15)\n",
    "    + ### [2.16 - Comparing `release_speed`, `effective_speed`, and `vy0`](2.16)\n",
    "    + ### [2.17 - Comparing `pfx_x` and `ax`](2.17)\n",
    "    + ### [2.18 - Comparing `pfx_z` and `az`](2.18)\n",
    "    + ### [2.19 - Comparing `release_spin_rate` and `spin_axis`](2.19)\n",
    "        + #### [2.19.1 - `4-Seam Fastball`](2.19.1)\n",
    "        + #### [2.19.2 - `Slider`](2.19.2)\n",
    "        + #### [2.19.3 - `Sinker`](2.19.3)\n",
    "        + #### [2.19.4 - `Changeup`](2.19.4)\n",
    "        + #### [2.19.5 - `Cutter`](2.19.5)\n",
    "        + #### [2.19.6 - `Curveball`](2.19.6)\n",
    "        + #### [2.19.7 - `Sweeper`](2.19.7)\n",
    "        + #### [2.19.8 - `Splitter`](2.19.8)\n",
    "        + #### [2.19.9 - `Knuckle Curve`](2.19.9)\n",
    "        + #### [2.19.10 - `Other`](2.19.10)\n",
    "    + ### [2.20 - Sampling Pitch Mixes for Individual Pitchers](2.20)\n",
    "        + #### [2.20.1 - `pitcher` 543518](2.20.1)\n",
    "        + #### [2.20.2 - `pitcher` 675627](2.20.2)\n",
    "        + #### [2.20.3 - `pitcher` 689017](2.20.3)\n",
    "\n",
    "\n",
    "* ## [3 - Classical Machine Learning Models](#3)\n",
    "    + ### [3.1 - Train-Test Splits](3.1)\n",
    "    + ### [3.2 - Baseline Model](3.2)\n",
    "    + ### [3.3 - Modeling with `k`-Nearest Neighbors](3.3)\n",
    "        + #### [3.3.1 - Tuning `k` with `GridSearchCV`](3.3.1)\n",
    "        + #### [3.3.2 - The `k`-Nearest Neighbors Model](3.3.2)\n",
    "    + ### [3.4 - Modeling with a Decision Tree](3.4)\n",
    "        + #### [3.4.1 - Tuning `splitter` and `max_depth` with `GridSearchCV`](3.4.1)\n",
    "        + #### [3.4.2 - The Decision Tree Model](3.4.2)\n",
    "    + ### [3.5 - Modeling with Random Forests](3.5)\n",
    "        + #### [3.5.1 - Tuning `n_estimators` and `max_depth` with `GridSearchCV`](3.5.1)\n",
    "        + #### [3.5.2 - The Random Forest Model](3.5.2)\n",
    "    + ### [3.6- Modeling with Extra Trees](3.6)\n",
    "        + #### [3.6.1 - Tuning `n_estimators` and `max_depth` with `GridSearchCV`](3.6.1)\n",
    "        + #### [3.6.2 - The Extra Trees Model](3.6.2)\n",
    "    + ### [3.7 - Modeling with AdaBoost](3.7)\n",
    "        + #### [3.7.1 - Tuning `n_estimators` with `GridSearchCV`](3.7.1)\n",
    "        + #### [3.7.2 - The AdaBoost Model](3.7.2)\n",
    "    + ### [3.8 - Summary Metrics for Classical Machine Learning Models](3.8)\n",
    "\n",
    "\n",
    "* ## [4 - Comparing with a Neural Network](#4)\n",
    "    + ### [4.1 - Modeling with `k`-Nearest Neighbors](4.1)\n",
    "        + #### [4.1.1 - Tuning `k` with `GridSearchCV`](4.1.1)\n",
    "        + #### [4.1.2 - Training the `k`-Nearest Neighbors Model](4.1.2)\n",
    "        + #### [4.1.3 - Evaluating the `k`-Nearest Neighbors Model](4.1.3)\n",
    "    + ### [4.2 - Modeling with a Neural Network](4.2)\n",
    "        + #### [4.2.1 - Data Frame Normalization and Creating Dataloaders](4.2.1)\n",
    "        + #### [4.2.2 - Defining and Instantiating `PitchClassifier`](4.2.2)\n",
    "        + #### [4.2.3 - Training the Classifier](4.2.3)\n",
    "        + #### [4.2.4 - Evaluating the Classifier](4.2.4)\n",
    "    + ### [4.3 - Summary Metrics for Both Models](4.3)\n",
    "\n",
    "* ## [Appendix A - Data Collection,  Cleaning, and Processing](A)\n",
    "    + ### A.1 - [Accessing Raw Pitch Data](A.1)\n",
    "    + ### A.2 - [Merging and Cleaning](A.2)\n",
    "    + ### A.3 - [Feature Engineering](A.3)\n",
    "    + ### A.4 - [Exporting](A.4)  "
   ]
  },
  {
   "cell_type": "markdown",
   "id": "4e268973-138c-46ad-88c6-7be332dece44",
   "metadata": {},
   "source": [
    "--------------------------------\n",
    "\n",
    "<a id='1'></a>\n",
    "## 1 - Introduction\n",
    "\n",
    "This project seeks to predict a pitch's type based on observable data. In [Section 2](#2), we provide a preliminary visual investigation of the most relevant features. In [Section 3](#3), we use classical machine learning methods (`k`-nearest neightbors, decision trees, and ensemble methods) to predict a pitch's type using the key features determined in Section 2. Notably, we include `pitcher` as a feature, which is a unique ID for each pitcher. In theory, though, we should be able to classify pitches based on their pitch shape alone. We proceed to study this question in [Section 4](#4), where we compare a `k`-nearest neighbors model to a simple neural network (neither of which use the `pitcher` feature).\n",
    "\n",
    "<a id='1.1'></a>\n",
    "### 1.1 - A Note on Metrics\n",
    "\n",
    "In this case, our primary metric of interest will be accuracy. Beyond accuracy, we will also track precision, recall, and F1-score.\n",
    "\n",
    "<a id='1.2'></a>\n",
    "### 1.2 - Data Collection\n",
    "\n",
    "We will be looking at pitches from the entirety of the 2024 regular season. Our source of pitch data is [Baseball Savant](https://baseballsavant.mlb.com/statcast_search), via [pybaseball](https://github.com/jldbc/pybaseball).\n",
    "  \n",
    "We go into further details in [Appendix A](#A).\n",
    "\n",
    "<a id='1.3'></a>\n",
    "### 1.3 - Importing Necessary Packages"
   ]
  },
  {
   "cell_type": "code",
   "execution_count": null,
   "id": "f8c5cd52-063b-4f72-81fd-a6d7f8e6e7ab",
   "metadata": {},
   "outputs": [],
   "source": [
    "# General\n",
    "import pandas as pd\n",
    "import numpy as np\n",
    "\n",
    "# Early Data Analysis\n",
    "import seaborn as sns\n",
    "import matplotlib.pyplot as plt\n",
    "sns.set_style(\"whitegrid\")\n",
    "\n",
    "# Time\n",
    "import time\n",
    "\n",
    "# General Modeling\n",
    "from sklearn.compose import ColumnTransformer\n",
    "from sklearn.metrics import accuracy_score, precision_recall_fscore_support\n",
    "from sklearn.model_selection import train_test_split, StratifiedKFold, GridSearchCV\n",
    "from sklearn.pipeline import Pipeline\n",
    "from sklearn.preprocessing import StandardScaler, OneHotEncoder\n",
    "\n",
    "# Specific Models for sklearn\n",
    "from sklearn.neighbors import KNeighborsClassifier\n",
    "from sklearn.tree import DecisionTreeClassifier\n",
    "from sklearn.ensemble import RandomForestClassifier, ExtraTreesClassifier, AdaBoostClassifier\n",
    "\n",
    "# Neural Networks\n",
    "import torch\n",
    "import torch.nn as nn\n",
    "from torch.utils.data import TensorDataset, DataLoader\n",
    "from torchmetrics import Accuracy, Precision, Recall"
   ]
  },
  {
   "cell_type": "markdown",
   "id": "c001f9d2-ac67-436d-87a4-b989b77a832b",
   "metadata": {},
   "source": [
    "<a id='1.4'></a>\n",
    "### 1.4 - Importing the Dataframe\n",
    "\n",
    "We import `intrinsic_features.csv` as a dataframe and set a canonical order for pitch classes."
   ]
  },
  {
   "cell_type": "code",
   "execution_count": null,
   "id": "9d8bd22d-c016-494b-96c7-158a7bf55ec7",
   "metadata": {},
   "outputs": [],
   "source": [
    "intrinsic_df = pd.read_csv('intrinsic_features.csv')\n",
    "\n",
    "pitch_order = ['4-Seam Fastball', 'Slider', 'Sinker', 'Changeup', 'Cutter', 'Curveball', 'Sweeper', 'Split-Finger', 'Knuckle Curve', 'Other']"
   ]
  },
  {
   "cell_type": "markdown",
   "id": "505490e1-41a0-4217-9bc4-ec6f939fcf22",
   "metadata": {},
   "source": [
    "--------------------------------\n",
    "\n",
    "<a id='2'></a>\n",
    "## 2 - Early Data Analysis / Visualizations\n",
    "\n",
    "We take note of the columns of our data frame. Notably, we are predicting `pitch_name` and the remaining columns are:\n",
    "* pitcher - MLB Player ID of the pitcher\n",
    "* p_throws - handedness of the pitcher\n",
    "* release_speed - pitch speed out of hand\n",
    "* effective_speed - release speed adjusted by pitcher's release extension\n",
    "* pfx_x - horizontal movement (from catcher's perspective)\n",
    "* pfx_z - vertical movement (from catcher's perspective)\n",
    "* plate_x - horizontal position of the ball when it crosses home plate (from catcher's perspective)\n",
    "* plate_z - vertical postition of the ball when it crosses home plate (from catcher's perspective)\n",
    "* vx0 - horizontal velocity (determined at y=50)\n",
    "* vy0 - forward velocity (determined at y=50)\n",
    "* vz0 - vertical velocity (determined at y=50)\n",
    "* ax - horizontal acceleration (determined at y=50)\n",
    "* ay - forward acceleration (determined at y=50)\n",
    "* az - vertical acceleration (determined at y=50)\n",
    "* release_spin_rate - spin rate of the pitch\n",
    "* spin_axis - spin axis in the xz-plane, valued between 0 and 360\n",
    "* arm_angle - angle of the arm when throwing the pitch.  \n",
    "\n",
    "See the Baseball Savant [documentation](https://baseballsavant.mlb.com/csv-docs) for more details.  \n",
    "\n",
    "We will begin by examining a `kdeplot` for each feature - hued by `pitch_name` - to identify features with different distributions."
   ]
  },
  {
   "cell_type": "markdown",
   "id": "af75292e-e5d3-4f89-917c-6600261b558c",
   "metadata": {},
   "source": [
    "<a id='2.1'></a>\n",
    "### 2.1 - `release_speed`"
   ]
  },
  {
   "cell_type": "code",
   "execution_count": null,
   "id": "181cf2dd-e968-4e76-b827-9759f2c3e7e2",
   "metadata": {},
   "outputs": [],
   "source": [
    "plt.figure(figsize=(12,6))\n",
    "sns.kdeplot(data=intrinsic_df, x='release_speed', hue='pitch_name', hue_order=pitch_order, fill=True, common_norm=True)\n",
    "plt.show()"
   ]
  },
  {
   "cell_type": "markdown",
   "id": "7be6d8da-010e-40fb-8f52-ae66f786d4e8",
   "metadata": {},
   "source": [
    "Note that the almost all pitches are thrown with a speed of at least 68 MPH, so we zoom in on that region:"
   ]
  },
  {
   "cell_type": "code",
   "execution_count": null,
   "id": "6447d377-0688-407d-87b3-517883440200",
   "metadata": {},
   "outputs": [],
   "source": [
    "plt.figure(figsize=(12,6))\n",
    "sns.kdeplot(data=intrinsic_df, x='release_speed', hue='pitch_name', hue_order=pitch_order, fill=True, common_norm=True, clip=(68,103))\n",
    "plt.show()"
   ]
  },
  {
   "cell_type": "markdown",
   "id": "4426b6b7-c697-4109-9807-7666316c7a1b",
   "metadata": {},
   "source": [
    "We also show the region of 30-70 MPH to highlight this aspect of the `Other` distribution:"
   ]
  },
  {
   "cell_type": "code",
   "execution_count": null,
   "id": "d673e126-e2c7-4886-b0d1-ac9d2885b258",
   "metadata": {},
   "outputs": [],
   "source": [
    "plt.figure(figsize=(12,6))\n",
    "sns.kdeplot(data=intrinsic_df, x='release_speed', hue='pitch_name', hue_order=pitch_order, fill=True, common_norm=True, clip=(30,70))\n",
    "plt.show()"
   ]
  },
  {
   "cell_type": "markdown",
   "id": "867409d6-4ddc-407f-b314-e5a370f943ed",
   "metadata": {},
   "source": [
    "<a id='2.2'></a>\n",
    "### 2.2 - `effective_speed`\n",
    "\n",
    "Similarly to `release_speed`, we look at `effective_speed` overall, for pitches with `effective_speed` < 65, and for 25 < `effective_speed` < 70."
   ]
  },
  {
   "cell_type": "code",
   "execution_count": null,
   "id": "4ec9b1a4-eef7-4d4c-ba0b-ae6938232d23",
   "metadata": {},
   "outputs": [],
   "source": [
    "plt.figure(figsize=(12,6))\n",
    "sns.kdeplot(data=intrinsic_df, x='effective_speed', hue_order=pitch_order, hue='pitch_name', fill=True, common_norm=True)\n",
    "plt.show()"
   ]
  },
  {
   "cell_type": "code",
   "execution_count": null,
   "id": "7ea6205d-742b-4772-96aa-ac554f07fa6d",
   "metadata": {},
   "outputs": [],
   "source": [
    "plt.figure(figsize=(12,6))\n",
    "sns.kdeplot(data=intrinsic_df, x='effective_speed', hue_order=pitch_order, hue='pitch_name', fill=True, common_norm=True, clip=(65,103))\n",
    "plt.show()"
   ]
  },
  {
   "cell_type": "code",
   "execution_count": null,
   "id": "8de06a67-67f2-4f29-9b68-41169fa18e89",
   "metadata": {},
   "outputs": [],
   "source": [
    "plt.figure(figsize=(12,6))\n",
    "sns.kdeplot(data=intrinsic_df, x='effective_speed', hue_order=pitch_order, hue='pitch_name', fill=True, common_norm=True, clip=(25,70))\n",
    "plt.show()"
   ]
  },
  {
   "cell_type": "markdown",
   "id": "11cf1d3d-a6a5-4e1a-880a-851e505cf341",
   "metadata": {},
   "source": [
    "<a id='2.3'></a>\n",
    "### 2.3 - `pfx_x`"
   ]
  },
  {
   "cell_type": "code",
   "execution_count": null,
   "id": "45dec0af-d446-470f-b700-4001e53c356d",
   "metadata": {},
   "outputs": [],
   "source": [
    "plt.figure(figsize=(12,6))\n",
    "sns.kdeplot(data=intrinsic_df, x='pfx_x', hue='pitch_name', hue_order=pitch_order, fill=True, common_norm=True, clip=(-2,2))\n",
    "plt.show()"
   ]
  },
  {
   "cell_type": "markdown",
   "id": "0f53c059-44bb-4efc-a456-7db4bab6bdfb",
   "metadata": {},
   "source": [
    "The `pfx_x` distribution for each value of `pitch_name` has two peaks, corresponding to different behaviors for left-handed and right-handed pitchers. Consequently, we make separate figures for left-handed and right-handed pitchers. We will take this approach for all features relating to movement in the `x`-dimension."
   ]
  },
  {
   "cell_type": "markdown",
   "id": "dfc9d0aa-742f-4d1f-b5ce-53a7d90ffe22",
   "metadata": {},
   "source": [
    "<a id='2.3.1'></a>\n",
    "#### 2.3.1 - `pfx_x` for Right-Handed Pitchers"
   ]
  },
  {
   "cell_type": "code",
   "execution_count": null,
   "id": "4e8456a1-834f-4772-96c3-667fc471ccac",
   "metadata": {},
   "outputs": [],
   "source": [
    "plt.figure(figsize=(12,6))\n",
    "sns.kdeplot(\n",
    "    data=intrinsic_df[intrinsic_df['p_throws'] == 'R'],\n",
    "    x='pfx_x',\n",
    "    hue='pitch_name',\n",
    "    hue_order=pitch_order,\n",
    "    fill=True,\n",
    "    common_norm=True,\n",
    "    clip=(-2,2.1)\n",
    ")\n",
    "plt.show()"
   ]
  },
  {
   "cell_type": "markdown",
   "id": "ab9648c8-7232-402b-95ff-c3b7b8b2c0a5",
   "metadata": {},
   "source": [
    "<a id='2.3.2'></a>\n",
    "#### 2.3.2 - `pfx_x` for Left-Handed Pitchers"
   ]
  },
  {
   "cell_type": "code",
   "execution_count": null,
   "id": "5516ce9c-5bfe-40cb-baf5-942b2327857b",
   "metadata": {},
   "outputs": [],
   "source": [
    "plt.figure(figsize=(12,6))\n",
    "sns.kdeplot(\n",
    "    data=intrinsic_df[intrinsic_df['p_throws'] == 'L'],\n",
    "    x='pfx_x',\n",
    "    hue='pitch_name',\n",
    "    hue_order=pitch_order,\n",
    "    fill=True,\n",
    "    common_norm=True,\n",
    "    clip=(-2.2,2)\n",
    ")\n",
    "plt.show()"
   ]
  },
  {
   "cell_type": "markdown",
   "id": "6b6f22f5-6bf2-4133-9225-1f7500ffa0bf",
   "metadata": {},
   "source": [
    "<a id='2.4'></a>\n",
    "### 2.4 - `pfx_z`"
   ]
  },
  {
   "cell_type": "code",
   "execution_count": null,
   "id": "77d325b1-c7a5-496f-b262-af36dfce6679",
   "metadata": {},
   "outputs": [],
   "source": [
    "plt.figure(figsize=(12,6))\n",
    "sns.kdeplot(data=intrinsic_df, x='pfx_z', hue='pitch_name', hue_order=pitch_order, fill=True, common_norm=True, clip=(-2,2))\n",
    "plt.show()"
   ]
  },
  {
   "cell_type": "markdown",
   "id": "5a335fcb-e665-4b13-b20e-ab02b703a738",
   "metadata": {},
   "source": [
    "<a id='2.5'></a>\n",
    "### 2.5 - `plate_x`"
   ]
  },
  {
   "cell_type": "markdown",
   "id": "069a6fe1-8a01-4568-a832-f1a9cc897449",
   "metadata": {},
   "source": [
    "plt.figure(figsize=(12,6))\n",
    "sns.kdeplot(data=intrinsic_df, x='plate_x', hue='pitch_name', hue_order=pitch_order, fill=True, common_norm=True, clip=(-3,3))\n",
    "plt.show()"
   ]
  },
  {
   "cell_type": "markdown",
   "id": "9486f2e9-e4bc-4cbc-b5e9-141982150f75",
   "metadata": {},
   "source": [
    "<a id='2.5.1'></a>\n",
    "#### 2.5.1 - `plate_x` for Right-Handed Pitchers"
   ]
  },
  {
   "cell_type": "code",
   "execution_count": null,
   "id": "8d32792c-dc4d-4ff6-a584-2ea8ee46a403",
   "metadata": {},
   "outputs": [],
   "source": [
    "plt.figure(figsize=(12,6))\n",
    "sns.kdeplot(\n",
    "    data=intrinsic_df[intrinsic_df['p_throws'] == 'R'],\n",
    "    x='plate_x',\n",
    "    hue='pitch_name',\n",
    "    hue_order=pitch_order,\n",
    "    fill=True,\n",
    "    common_norm=True,\n",
    "    clip=(-3,3)\n",
    ")\n",
    "plt.show()"
   ]
  },
  {
   "cell_type": "markdown",
   "id": "8b171c7c-5c6a-4b7b-9c89-109ef259ac3f",
   "metadata": {},
   "source": [
    "<a id='2.5.2'></a>\n",
    "#### 2.5.2 - `plate_x` for Left-Handed Pitchers"
   ]
  },
  {
   "cell_type": "code",
   "execution_count": null,
   "id": "11f0d521-c28c-4443-a0d2-a012fa42c539",
   "metadata": {},
   "outputs": [],
   "source": [
    "plt.figure(figsize=(12,6))\n",
    "sns.kdeplot(\n",
    "    data=intrinsic_df[intrinsic_df['p_throws'] == 'L'],\n",
    "    x='plate_x',\n",
    "    hue='pitch_name',\n",
    "    hue_order=pitch_order,\n",
    "    fill=True,\n",
    "    common_norm=True,\n",
    "    clip=(-3,3)\n",
    ")\n",
    "plt.show()"
   ]
  },
  {
   "cell_type": "markdown",
   "id": "385f6a45-864f-42bb-9662-87cf6cedd650",
   "metadata": {},
   "source": [
    "<a id='2.6'></a>\n",
    "### 2.6 - `plate_z`"
   ]
  },
  {
   "cell_type": "code",
   "execution_count": null,
   "id": "55e11881-c687-4f7a-ae6d-7285a626774d",
   "metadata": {},
   "outputs": [],
   "source": [
    "plt.figure(figsize=(12,6))\n",
    "sns.kdeplot(data=intrinsic_df, x='plate_z', hue='pitch_name', hue_order=pitch_order, fill=True, common_norm=True, clip=(-1,6))\n",
    "plt.show()"
   ]
  },
  {
   "cell_type": "markdown",
   "id": "6655cffe-4b1e-46a9-a812-91b98f389a2d",
   "metadata": {},
   "source": [
    "<a id='2.7'></a>\n",
    "### 2.7 - `vx0`"
   ]
  },
  {
   "cell_type": "code",
   "execution_count": null,
   "id": "afe3dbbb-5a9f-4bc5-b5f8-78b76a0ed970",
   "metadata": {},
   "outputs": [],
   "source": [
    "plt.figure(figsize=(12,6))\n",
    "sns.kdeplot(data=intrinsic_df, x='vx0', hue='pitch_name', hue_order=pitch_order, fill=True, common_norm=True, clip=(-16,16))\n",
    "plt.show()"
   ]
  },
  {
   "cell_type": "markdown",
   "id": "54c12aa6-7062-40e8-84b9-8678cd14ae0d",
   "metadata": {},
   "source": [
    "<a id='2.7.1'></a>\n",
    "#### 2.7.1 - `vx0` for Right-Handed Pitchers"
   ]
  },
  {
   "cell_type": "code",
   "execution_count": null,
   "id": "5feb0033-b7c6-432e-ac96-f3723d2963d7",
   "metadata": {},
   "outputs": [],
   "source": [
    "plt.figure(figsize=(12,6))\n",
    "sns.kdeplot(\n",
    "    data=intrinsic_df[intrinsic_df['p_throws'] == 'R'],\n",
    "    x='vx0',\n",
    "    hue='pitch_name',\n",
    "    hue_order=pitch_order,\n",
    "    fill=True,\n",
    "    common_norm=True,\n",
    "    clip=(-5,16)\n",
    ")\n",
    "plt.show()"
   ]
  },
  {
   "cell_type": "markdown",
   "id": "f25ae338-76b3-446d-b1bf-9f95655b05a4",
   "metadata": {},
   "source": [
    "<a id='2.7.2'></a>\n",
    "#### 2.7.2 - `vx0` for Left-Handed Pitchers"
   ]
  },
  {
   "cell_type": "code",
   "execution_count": null,
   "id": "95da259d-ba9b-4277-8975-16e0863fc7ca",
   "metadata": {},
   "outputs": [],
   "source": [
    "plt.figure(figsize=(12,6))\n",
    "sns.kdeplot(\n",
    "    data=intrinsic_df[intrinsic_df['p_throws'] == 'L'],\n",
    "    x='vx0',\n",
    "    hue='pitch_name',\n",
    "    hue_order=pitch_order,\n",
    "    fill=True,\n",
    "    common_norm=True,\n",
    "    clip=(-17,5)\n",
    ")\n",
    "plt.show()"
   ]
  },
  {
   "cell_type": "markdown",
   "id": "ad7977d0-2986-4b6d-9664-4c4ab7a9ea1d",
   "metadata": {},
   "source": [
    "<a id='2.8'></a>\n",
    "### 2.8 - `vy0`\n",
    "\n",
    "As with `release_speed` and `effective_speed`, we split `vy0` into two regions."
   ]
  },
  {
   "cell_type": "code",
   "execution_count": null,
   "id": "b0d8e96e-1acb-4bcf-ae58-8260039888a2",
   "metadata": {},
   "outputs": [],
   "source": [
    "plt.figure(figsize=(12,6))\n",
    "sns.kdeplot(data=intrinsic_df, x='vy0', hue='pitch_name', hue_order=pitch_order, fill=True, common_norm=True, clip=(-150,-100))\n",
    "plt.show()"
   ]
  },
  {
   "cell_type": "code",
   "execution_count": null,
   "id": "11afc2fc-6f4a-46eb-9aef-e9b6f5987408",
   "metadata": {},
   "outputs": [],
   "source": [
    "plt.figure(figsize=(12,6))\n",
    "sns.kdeplot(data=intrinsic_df, x='vy0', hue='pitch_name', hue_order=pitch_order, fill=True, common_norm=True, clip=(-100,-40))\n",
    "plt.show()"
   ]
  },
  {
   "cell_type": "markdown",
   "id": "682046ef-a139-460a-aae6-26281f1ab487",
   "metadata": {},
   "source": [
    "<a id='2.9'></a>\n",
    "### 2.9 - `vz0`"
   ]
  },
  {
   "cell_type": "code",
   "execution_count": null,
   "id": "7f9597f4-96e5-4e17-b78b-bafc89f018ed",
   "metadata": {},
   "outputs": [],
   "source": [
    "plt.figure(figsize=(12,6))\n",
    "sns.kdeplot(data=intrinsic_df, x='vz0', hue='pitch_name', hue_order=pitch_order, fill=True, common_norm=True, clip=(-15,7))\n",
    "plt.show()"
   ]
  },
  {
   "cell_type": "markdown",
   "id": "5d308b67-e115-42f2-910b-4e04c84af363",
   "metadata": {},
   "source": [
    "<a id='2.10'></a>\n",
    "### 2.10 - `ax`"
   ]
  },
  {
   "cell_type": "code",
   "execution_count": null,
   "id": "a33a0263-cd6a-4f11-b25f-a377b5d078e6",
   "metadata": {},
   "outputs": [],
   "source": [
    "plt.figure(figsize=(12,6))\n",
    "sns.kdeplot(data=intrinsic_df, x='ax', hue='pitch_name', hue_order=pitch_order, fill=True, common_norm=True, clip=(-29,27))\n",
    "plt.show()"
   ]
  },
  {
   "cell_type": "markdown",
   "id": "736a2820-2321-4044-9e1f-9979fb68d6bf",
   "metadata": {},
   "source": [
    "<a id='2.10.1'></a>\n",
    "#### 2.10.1 - `ax` for Right-Handed Pitchers"
   ]
  },
  {
   "cell_type": "code",
   "execution_count": null,
   "id": "3efe50dd-bc77-40e9-b77c-f5ddcf4b177e",
   "metadata": {},
   "outputs": [],
   "source": [
    "plt.figure(figsize=(12,6))\n",
    "sns.kdeplot(\n",
    "    data=intrinsic_df[intrinsic_df['p_throws'] == 'R'],\n",
    "    x='ax',\n",
    "    hue='pitch_name',\n",
    "    hue_order=pitch_order,\n",
    "    fill=True,\n",
    "    common_norm=True,\n",
    "    clip=(-27,20)\n",
    ")\n",
    "plt.show()"
   ]
  },
  {
   "cell_type": "markdown",
   "id": "d3004720-9a05-4d7d-8bbc-afe4b853efe4",
   "metadata": {},
   "source": [
    "<a id='2.10.2'></a>\n",
    "#### 2.10.2 - `ax` for Left-Handed Pitchers"
   ]
  },
  {
   "cell_type": "code",
   "execution_count": null,
   "id": "8a0efadc-217c-48a8-8c6b-36da85e8d6a2",
   "metadata": {},
   "outputs": [],
   "source": [
    "plt.figure(figsize=(12,6))\n",
    "sns.kdeplot(\n",
    "    data=intrinsic_df[intrinsic_df['p_throws'] == 'L'],\n",
    "    x='ax',\n",
    "    hue='pitch_name',\n",
    "    hue_order=pitch_order,\n",
    "    fill=True,\n",
    "    common_norm=True,\n",
    "    clip=(-19,25)\n",
    ")\n",
    "plt.show()"
   ]
  },
  {
   "cell_type": "markdown",
   "id": "4f5a7744-81ef-4294-a2dc-bff81bb8d392",
   "metadata": {},
   "source": [
    "<a id='2.11'></a>\n",
    "### 2.11 - `ay`"
   ]
  },
  {
   "cell_type": "code",
   "execution_count": null,
   "id": "3cde3d49-2678-46a2-ace5-458dffbbd948",
   "metadata": {},
   "outputs": [],
   "source": [
    "plt.figure(figsize=(12,6))\n",
    "sns.kdeplot(data=intrinsic_df, x='ay', hue='pitch_name', hue_order=pitch_order, fill=True, common_norm=True, clip=(14,41))\n",
    "plt.show()"
   ]
  },
  {
   "cell_type": "markdown",
   "id": "4a442e98-59b0-4f50-9380-d762c5c00530",
   "metadata": {},
   "source": [
    "<a id='2.12'></a>\n",
    "### 2.12 - `az`"
   ]
  },
  {
   "cell_type": "code",
   "execution_count": null,
   "id": "d7ae2e6f-c91a-4616-b43e-71e3dc73ee17",
   "metadata": {},
   "outputs": [],
   "source": [
    "plt.figure(figsize=(12,6))\n",
    "sns.kdeplot(data=intrinsic_df, x='az', hue='pitch_name', hue_order=pitch_order, fill=True, common_norm=True, clip=(-48,-4))\n",
    "plt.show()"
   ]
  },
  {
   "cell_type": "markdown",
   "id": "56ac2d1d-2f62-4ea3-95af-0dd034e53438",
   "metadata": {},
   "source": [
    "<a id='2.13'></a>\n",
    "### 2.13 - `release_spin_rate`"
   ]
  },
  {
   "cell_type": "code",
   "execution_count": null,
   "id": "d1b7cd40-2a7c-49c5-b8cd-a60022d18239",
   "metadata": {},
   "outputs": [],
   "source": [
    "plt.figure(figsize=(12,6))\n",
    "sns.kdeplot(data=intrinsic_df, x='release_spin_rate', hue='pitch_name', hue_order=pitch_order, fill=True, common_norm=True, clip=(600,3500))\n",
    "plt.show()"
   ]
  },
  {
   "cell_type": "markdown",
   "id": "b00de3d5-98cc-4bfb-852b-80c2098d9cb6",
   "metadata": {},
   "source": [
    "<a id='2.14'></a>\n",
    "### 2.14 - `spin_axis`"
   ]
  },
  {
   "cell_type": "code",
   "execution_count": null,
   "id": "e86dbe6d-ca04-4f94-ae5e-7085a3cee502",
   "metadata": {},
   "outputs": [],
   "source": [
    "plt.figure(figsize=(12,6))\n",
    "sns.kdeplot(data=intrinsic_df, x='spin_axis', hue='pitch_name', hue_order=pitch_order, fill=True, common_norm=True, clip=(0,360))\n",
    "plt.show()"
   ]
  },
  {
   "cell_type": "markdown",
   "id": "ee4384bc-4eec-402c-8036-c1575c093db5",
   "metadata": {},
   "source": [
    "<a id='2.14.1'></a>\n",
    "#### 2.14.1 - `spin_axis` for Right-Handed Pitchers"
   ]
  },
  {
   "cell_type": "code",
   "execution_count": null,
   "id": "22e7c6cb-7b60-4ee9-a1d9-d667895bf431",
   "metadata": {},
   "outputs": [],
   "source": [
    "plt.figure(figsize=(12,6))\n",
    "sns.kdeplot(\n",
    "    data=intrinsic_df[intrinsic_df['p_throws'] == 'R'],\n",
    "    x='spin_axis',\n",
    "    hue='pitch_name',\n",
    "    hue_order=pitch_order,\n",
    "    fill=True,\n",
    "    common_norm=True,\n",
    "    clip=(0,360)\n",
    ")\n",
    "plt.show()"
   ]
  },
  {
   "cell_type": "markdown",
   "id": "bd7c4fb9-3496-45cf-888a-6e61db0e2068",
   "metadata": {},
   "source": [
    "<a id='2.14.2'></a>\n",
    "#### 2.14.2 - `spin_axis` for Left-Handed Pitchers"
   ]
  },
  {
   "cell_type": "code",
   "execution_count": null,
   "id": "59a8e5f2-9a60-4885-9035-620d8b35c2f1",
   "metadata": {},
   "outputs": [],
   "source": [
    "plt.figure(figsize=(12,6))\n",
    "sns.kdeplot(\n",
    "    data=intrinsic_df[intrinsic_df['p_throws'] == 'L'],\n",
    "    x='spin_axis',\n",
    "    hue='pitch_name',\n",
    "    hue_order=pitch_order,\n",
    "    fill=True,\n",
    "    common_norm=True,\n",
    "    clip=(0,360)\n",
    ")\n",
    "plt.show()"
   ]
  },
  {
   "cell_type": "markdown",
   "id": "b8620089-320a-49be-b33d-8407b5031c93",
   "metadata": {},
   "source": [
    "<a id='2.15'></a>\n",
    "### 2.15 - `arm_angle`"
   ]
  },
  {
   "cell_type": "code",
   "execution_count": null,
   "id": "64f07808-5f2c-4046-99e6-9c97d5c89211",
   "metadata": {},
   "outputs": [],
   "source": [
    "plt.figure(figsize=(12,6))\n",
    "sns.kdeplot(data=intrinsic_df, x='arm_angle', hue='pitch_name', hue_order=pitch_order, fill=True, common_norm=True)\n",
    "plt.show()"
   ]
  },
  {
   "cell_type": "markdown",
   "id": "c3a42aaa-0e67-46e6-87c8-d599e2a9112b",
   "metadata": {},
   "source": [
    "<a id='2.16'></a>\n",
    "### 2.16 - Comparing `release_speed`, `effective_speed`, and `vy0`\n",
    "\n",
    "`effective_speed` is a version of `release_speed` which is adjusted by a pitcher's release extension. These are both measuring the overall speed of the pitch, while `vy0` is the speed in the `y`-dimension. However, the vast majority of the velocity is in the `y`-dimension.  \n",
    "\n",
    "We see the strong linear correlations below."
   ]
  },
  {
   "cell_type": "code",
   "execution_count": null,
   "id": "d2c0dddf-0ea2-4466-bc6c-80ea9819b412",
   "metadata": {},
   "outputs": [],
   "source": [
    "plt.figure(figsize=(12,6))\n",
    "sns.scatterplot(data=intrinsic_df, x='release_speed', y='effective_speed', hue='pitch_name', hue_order=pitch_order)\n",
    "plt.show()"
   ]
  },
  {
   "cell_type": "code",
   "execution_count": null,
   "id": "50cd3120-003d-4f60-a01b-246a7ae11154",
   "metadata": {},
   "outputs": [],
   "source": [
    "plt.figure(figsize=(12,6))\n",
    "sns.scatterplot(data=intrinsic_df, x='release_speed', y='vy0', hue='pitch_name', hue_order=pitch_order)\n",
    "plt.show()"
   ]
  },
  {
   "cell_type": "code",
   "execution_count": null,
   "id": "5fee7ead-8d86-451b-9d23-ecac2a7b530a",
   "metadata": {},
   "outputs": [],
   "source": [
    "plt.figure(figsize=(12,6))\n",
    "sns.scatterplot(data=intrinsic_df, x='effective_speed', y='vy0', hue='pitch_name', hue_order=pitch_order)\n",
    "plt.show()"
   ]
  },
  {
   "cell_type": "markdown",
   "id": "3aebf037-bad9-4ba4-9839-5ae485867767",
   "metadata": {},
   "source": [
    "<a id='2.17'></a>\n",
    "### 2.17 - Comparing `pfx_x` and `ax`\n",
    "\n",
    "`pfx_x` is the pitch's `x`- movement and `ax` is the pitch's `x`-acceleration, which we compare for left-handed and right-handed pitchers separately. We see strong linear correlations between these features."
   ]
  },
  {
   "cell_type": "code",
   "execution_count": null,
   "id": "279b449a-95c2-481b-a22c-ed85087bb1b5",
   "metadata": {},
   "outputs": [],
   "source": [
    "plt.figure(figsize=(12,6))\n",
    "sns.scatterplot(data=intrinsic_df[intrinsic_df['p_throws']=='R'], x='pfx_x', y='ax', hue='pitch_name', hue_order=pitch_order)\n",
    "plt.show()"
   ]
  },
  {
   "cell_type": "code",
   "execution_count": null,
   "id": "9c3e6570-84b8-4942-b4fa-4f6b24407223",
   "metadata": {},
   "outputs": [],
   "source": [
    "plt.figure(figsize=(12,6))\n",
    "sns.scatterplot(data=intrinsic_df[intrinsic_df['p_throws']=='L'], x='pfx_x', y='ax', hue='pitch_name', hue_order=pitch_order)\n",
    "plt.show()"
   ]
  },
  {
   "cell_type": "markdown",
   "id": "5f4b7115-0f5d-4209-89fb-f2b547c31652",
   "metadata": {},
   "source": [
    "<a id='2.18'></a>\n",
    "### 2.18 - Comparing `pfx_z` and `az`\n",
    "\n",
    "`pfx_z` is the pitch's `z`- movement and `az` is the pitch's `z`-acceleration. We see strong linear correlations between these features as well."
   ]
  },
  {
   "cell_type": "code",
   "execution_count": null,
   "id": "30375896-1386-4009-af95-1a391a1dbb33",
   "metadata": {},
   "outputs": [],
   "source": [
    "plt.figure(figsize=(12,6))\n",
    "sns.scatterplot(data=intrinsic_df, x='pfx_z', y='az', hue='pitch_name', hue_order=pitch_order)\n",
    "plt.show()"
   ]
  },
  {
   "cell_type": "markdown",
   "id": "8809b745-1ca0-4c8c-bd3b-97af9eb12c50",
   "metadata": {},
   "source": [
    "<a id='2.19'></a>\n",
    "### 2.19 - Comparing `release_spin_rate` and `spin_axis`\n",
    "\n",
    "`release_spin_rate` and `spin_axis` are not linearly related, but are the two primary components of a pitch's spin profile. We investigate their relationship for all pitches at once for left-handed pitchers and right-handed pitchers. We then inspect the relationship for individual values of `pitch_name`, but only for right-handed pitchers."
   ]
  },
  {
   "cell_type": "code",
   "execution_count": null,
   "id": "c5adebfd-4cc4-4479-b665-60a5e4a6af0d",
   "metadata": {},
   "outputs": [],
   "source": [
    "plt.figure(figsize=(12,6))\n",
    "ax = sns.scatterplot(data=intrinsic_df[intrinsic_df['p_throws']=='R'], x='spin_axis', y='release_spin_rate', hue='pitch_name', hue_order=pitch_order)\n",
    "sns.move_legend(ax, \"upper left\", bbox_to_anchor=(1, 1))\n",
    "plt.show()"
   ]
  },
  {
   "cell_type": "code",
   "execution_count": null,
   "id": "33b5158e-99a5-4cc6-8e2e-c40956776bdf",
   "metadata": {},
   "outputs": [],
   "source": [
    "plt.figure(figsize=(12,6))\n",
    "ax = sns.scatterplot(data=intrinsic_df[intrinsic_df['p_throws']=='L'], x='spin_axis', y='release_spin_rate', hue='pitch_name', hue_order=pitch_order)\n",
    "sns.move_legend(ax, \"upper left\", bbox_to_anchor=(1, 1))\n",
    "plt.show()"
   ]
  },
  {
   "cell_type": "markdown",
   "id": "c773ace9-6f09-4509-9e8d-a7c675ef449e",
   "metadata": {},
   "source": [
    "<a id='2.19.1'></a>\n",
    "#### 2.19.1 - `4-Seam Fastball`"
   ]
  },
  {
   "cell_type": "code",
   "execution_count": null,
   "id": "6a240c00-383e-497e-87b4-4b4a6ccdcd7b",
   "metadata": {},
   "outputs": [],
   "source": [
    "plt.figure(figsize=(12,6))\n",
    "ax = sns.scatterplot(\n",
    "    data=intrinsic_df[(intrinsic_df['p_throws']=='R') & (intrinsic_df['pitch_name']=='4-Seam Fastball')],\n",
    "    x='spin_axis',\n",
    "    y='release_spin_rate',\n",
    "    hue='pitch_name',\n",
    "    hue_order=pitch_order\n",
    ")\n",
    "plt.xlim(0,360)\n",
    "plt.ylim(0,3500)\n",
    "sns.move_legend(ax, \"upper left\", bbox_to_anchor=(1, 1))\n",
    "plt.show()"
   ]
  },
  {
   "cell_type": "markdown",
   "id": "941073a5-1e87-4f7f-bf48-31496393f76a",
   "metadata": {},
   "source": [
    "<a id='2.19.2'></a>\n",
    "#### 2.19.2 - `Slider`"
   ]
  },
  {
   "cell_type": "code",
   "execution_count": null,
   "id": "1aa611df-c53d-43b2-91d1-06fa7b0f06fd",
   "metadata": {},
   "outputs": [],
   "source": [
    "plt.figure(figsize=(12,6))\n",
    "ax = sns.scatterplot(\n",
    "    data=intrinsic_df[(intrinsic_df['p_throws']=='R') & (intrinsic_df['pitch_name']=='Slider')],\n",
    "    x='spin_axis',\n",
    "    y='release_spin_rate',\n",
    "    hue='pitch_name',\n",
    "    hue_order=pitch_order\n",
    ")\n",
    "plt.xlim(0,360)\n",
    "plt.ylim(0,3500)\n",
    "sns.move_legend(ax, \"upper left\", bbox_to_anchor=(1, 1))\n",
    "plt.show()"
   ]
  },
  {
   "cell_type": "markdown",
   "id": "5ab308e0-7ec4-4496-a2af-a636b2e15a62",
   "metadata": {},
   "source": [
    "<a id='2.19.3'></a>\n",
    "#### 2.19.3 - `Sinker`"
   ]
  },
  {
   "cell_type": "code",
   "execution_count": null,
   "id": "27dec566-7d58-415a-bbf3-648b359de40e",
   "metadata": {},
   "outputs": [],
   "source": [
    "plt.figure(figsize=(12,6))\n",
    "ax = sns.scatterplot(\n",
    "    data=intrinsic_df[(intrinsic_df['p_throws']=='R') & (intrinsic_df['pitch_name']=='Sinker')],\n",
    "    x='spin_axis',\n",
    "    y='release_spin_rate',\n",
    "    hue='pitch_name',\n",
    "    hue_order=pitch_order\n",
    ")\n",
    "plt.xlim(0,360)\n",
    "plt.ylim(0,3500)\n",
    "sns.move_legend(ax, \"upper left\", bbox_to_anchor=(1, 1))\n",
    "plt.show()"
   ]
  },
  {
   "cell_type": "markdown",
   "id": "fa5abc67-7be1-418a-b2d1-503835dc2ca3",
   "metadata": {},
   "source": [
    "<a id='2.19.4'></a>\n",
    "#### 2.19.4 - `Changeup`"
   ]
  },
  {
   "cell_type": "code",
   "execution_count": null,
   "id": "6d58f069-b44c-490a-b19e-38e32217e558",
   "metadata": {},
   "outputs": [],
   "source": [
    "plt.figure(figsize=(12,6))\n",
    "ax = sns.scatterplot(\n",
    "    data=intrinsic_df[(intrinsic_df['p_throws']=='R') & (intrinsic_df['pitch_name']=='Changeup')],\n",
    "    x='spin_axis',\n",
    "    y='release_spin_rate',\n",
    "    hue='pitch_name',\n",
    "    hue_order=pitch_order\n",
    ")\n",
    "plt.xlim(0,360)\n",
    "plt.ylim(0,3500)\n",
    "sns.move_legend(ax, \"upper left\", bbox_to_anchor=(1, 1))\n",
    "plt.show()"
   ]
  },
  {
   "cell_type": "markdown",
   "id": "52ed528a-d6b6-4adb-a0a6-69cdfcc0006c",
   "metadata": {},
   "source": [
    "<a id='2.19.5'></a>\n",
    "#### 2.19.5 - `Cutter`"
   ]
  },
  {
   "cell_type": "code",
   "execution_count": null,
   "id": "e4afed3d-861f-4742-b116-e99fd3237d64",
   "metadata": {},
   "outputs": [],
   "source": [
    "plt.figure(figsize=(12,6))\n",
    "ax = sns.scatterplot(\n",
    "    data=intrinsic_df[(intrinsic_df['p_throws']=='R') & (intrinsic_df['pitch_name']=='Cutter')],\n",
    "    x='spin_axis',\n",
    "    y='release_spin_rate',\n",
    "    hue='pitch_name',\n",
    "    hue_order=pitch_order\n",
    ")\n",
    "plt.xlim(0,360)\n",
    "plt.ylim(0,3500)\n",
    "sns.move_legend(ax, \"upper left\", bbox_to_anchor=(1, 1))\n",
    "plt.show()"
   ]
  },
  {
   "cell_type": "markdown",
   "id": "83cf91a9-dcb7-47d7-9b65-192054b18e7c",
   "metadata": {},
   "source": [
    "<a id='2.19.6'></a>\n",
    "#### 2.19.6 - `Curveball`"
   ]
  },
  {
   "cell_type": "code",
   "execution_count": null,
   "id": "a2f5a52e-e131-40f8-a796-bbb4beb629d5",
   "metadata": {},
   "outputs": [],
   "source": [
    "plt.figure(figsize=(12,6))\n",
    "ax = sns.scatterplot(\n",
    "    data=intrinsic_df[(intrinsic_df['p_throws']=='R') & (intrinsic_df['pitch_name']=='Curveball')],\n",
    "    x='spin_axis',\n",
    "    y='release_spin_rate',\n",
    "    hue='pitch_name',\n",
    "    hue_order=pitch_order\n",
    ")\n",
    "plt.xlim(0,360)\n",
    "plt.ylim(0,3500)\n",
    "sns.move_legend(ax, \"upper left\", bbox_to_anchor=(1, 1))\n",
    "plt.show()"
   ]
  },
  {
   "cell_type": "markdown",
   "id": "0da60c43-86a6-4289-9242-e3566dcbfd61",
   "metadata": {},
   "source": [
    "<a id='2.19.7'></a>\n",
    "#### 2.19.7 - `Sweeper`"
   ]
  },
  {
   "cell_type": "code",
   "execution_count": null,
   "id": "01720863-532a-48db-9afc-70cd0ea632e6",
   "metadata": {},
   "outputs": [],
   "source": [
    "plt.figure(figsize=(12,6))\n",
    "ax = sns.scatterplot(\n",
    "    data=intrinsic_df[(intrinsic_df['p_throws']=='R') & (intrinsic_df['pitch_name']=='Sweeper')],\n",
    "    x='spin_axis',\n",
    "    y='release_spin_rate',\n",
    "    hue='pitch_name',\n",
    "    hue_order=pitch_order\n",
    ")\n",
    "plt.xlim(0,360)\n",
    "plt.ylim(0,3500)\n",
    "sns.move_legend(ax, \"upper left\", bbox_to_anchor=(1, 1))\n",
    "plt.show()"
   ]
  },
  {
   "cell_type": "markdown",
   "id": "ca3a35dd-f06f-4ae8-bc2c-24d298c7b34c",
   "metadata": {},
   "source": [
    "<a id='2.19.8'></a>\n",
    "#### 2.19.8 - `Splitter`"
   ]
  },
  {
   "cell_type": "code",
   "execution_count": null,
   "id": "b05e340f-3539-4f0d-b084-337ea930869c",
   "metadata": {},
   "outputs": [],
   "source": [
    "plt.figure(figsize=(12,6))\n",
    "ax = sns.scatterplot(\n",
    "    data=intrinsic_df[(intrinsic_df['p_throws']=='R') & (intrinsic_df['pitch_name']=='Split-Finger')],\n",
    "    x='spin_axis',\n",
    "    y='release_spin_rate',\n",
    "    hue='pitch_name',\n",
    "    hue_order=pitch_order\n",
    ")\n",
    "plt.xlim(0,360)\n",
    "plt.ylim(0,3500)\n",
    "sns.move_legend(ax, \"upper left\", bbox_to_anchor=(1, 1))\n",
    "plt.show()"
   ]
  },
  {
   "cell_type": "markdown",
   "id": "f8132cf5-7b99-4ba2-aba3-1789185038b5",
   "metadata": {},
   "source": [
    "<a id='2.19.9'></a>\n",
    "#### 2.19.9 - `Knuckle Curve`"
   ]
  },
  {
   "cell_type": "code",
   "execution_count": null,
   "id": "e499417b-4699-4960-aeef-68214b586b39",
   "metadata": {},
   "outputs": [],
   "source": [
    "plt.figure(figsize=(12,6))\n",
    "ax = sns.scatterplot(\n",
    "    data=intrinsic_df[(intrinsic_df['p_throws']=='R') & (intrinsic_df['pitch_name']=='Knuckle Curve')],\n",
    "    x='spin_axis',\n",
    "    y='release_spin_rate',\n",
    "    hue='pitch_name',\n",
    "    hue_order=pitch_order\n",
    ")\n",
    "plt.xlim(0,360)\n",
    "plt.ylim(0,3500)\n",
    "sns.move_legend(ax, \"upper left\", bbox_to_anchor=(1, 1))\n",
    "plt.show()"
   ]
  },
  {
   "cell_type": "markdown",
   "id": "db9938fd-4ae0-47f3-83d9-6110ade0e89e",
   "metadata": {},
   "source": [
    "<a id='2.19.10'></a>\n",
    "#### 2.19.10 - `Other`"
   ]
  },
  {
   "cell_type": "code",
   "execution_count": null,
   "id": "1006a097-fa4d-485b-a390-b928d466d627",
   "metadata": {},
   "outputs": [],
   "source": [
    "plt.figure(figsize=(12,6))\n",
    "ax = sns.scatterplot(\n",
    "    data=intrinsic_df[(intrinsic_df['p_throws']=='R') & (intrinsic_df['pitch_name']=='Other')],\n",
    "    x='spin_axis',\n",
    "    y='release_spin_rate',\n",
    "    hue='pitch_name',\n",
    "    hue_order=pitch_order\n",
    ")\n",
    "plt.xlim(0,360)\n",
    "plt.ylim(0,3500)\n",
    "sns.move_legend(ax, \"upper left\", bbox_to_anchor=(1, 1))\n",
    "plt.show()"
   ]
  },
  {
   "cell_type": "markdown",
   "id": "636d3101-2861-43ec-b48c-413cc9d1fe76",
   "metadata": {},
   "source": [
    "<a id='2.20'></a>\n",
    "### 2.20 - Sampling Pitch Mixes for Individual Pitchers\n",
    "\n",
    "The two primary features for a pitch are the speed and the spin rate. To demonstrate how pitch profiles vary from pitcher to pitcher, we examine these features for several specific pitchers."
   ]
  },
  {
   "cell_type": "markdown",
   "id": "f2c53364-c64e-4881-942a-64ca3f1d7c02",
   "metadata": {},
   "source": [
    "<a id='2.20.1'></a>\n",
    "#### 2.20.1 - `pitcher` 543518"
   ]
  },
  {
   "cell_type": "code",
   "execution_count": null,
   "id": "800869b8-b3e9-4f1c-b8b2-5202509e4acb",
   "metadata": {},
   "outputs": [],
   "source": [
    "plt.figure(figsize=(12,6))\n",
    "sns.scatterplot(\n",
    "    data=intrinsic_df[intrinsic_df['pitcher']==543518],\n",
    "    x='release_speed',\n",
    "    y='release_spin_rate',\n",
    "    hue='pitch_name',\n",
    "    hue_order=pitch_order\n",
    ")\n",
    "plt.xlim(70,100)\n",
    "plt.ylim(0,3500)\n",
    "plt.show()"
   ]
  },
  {
   "cell_type": "markdown",
   "id": "a5f0384f-3f0e-44d7-a3be-f09da1f17407",
   "metadata": {},
   "source": [
    "<a id='2.20.2'></a>\n",
    "#### 2.20.2 - `pitcher` 675627"
   ]
  },
  {
   "cell_type": "code",
   "execution_count": null,
   "id": "16f3c58a-4dc1-40b4-ad51-0c7843297825",
   "metadata": {},
   "outputs": [],
   "source": [
    "plt.figure(figsize=(12,6))\n",
    "sns.scatterplot(\n",
    "    data=intrinsic_df[intrinsic_df['pitcher']==675627],\n",
    "    x='release_speed',\n",
    "    y='release_spin_rate',\n",
    "    hue='pitch_name',\n",
    "    hue_order=pitch_order\n",
    ")\n",
    "plt.xlim(70,100)\n",
    "plt.ylim(0,3500)\n",
    "plt.show()"
   ]
  },
  {
   "cell_type": "markdown",
   "id": "e0726f70-0309-4842-9a18-f39a04dab79f",
   "metadata": {},
   "source": [
    "<a id='2.20.3'></a>\n",
    "#### 2.20.3 - `pitcher` 689017"
   ]
  },
  {
   "cell_type": "code",
   "execution_count": null,
   "id": "3edaf9f2-c466-46db-b433-76f19cb21421",
   "metadata": {},
   "outputs": [],
   "source": [
    "plt.figure(figsize=(12,6))\n",
    "sns.scatterplot(\n",
    "    data=intrinsic_df[intrinsic_df['pitcher']==689017],\n",
    "    x='release_speed',\n",
    "    y='release_spin_rate',\n",
    "    hue='pitch_name',\n",
    "    hue_order=pitch_order\n",
    ")\n",
    "plt.xlim(70,100)\n",
    "plt.ylim(0,3500)\n",
    "plt.show()"
   ]
  },
  {
   "cell_type": "markdown",
   "id": "5823eb2e-cab7-44be-a1bb-669c34dcd269",
   "metadata": {},
   "source": [
    "--------------------------------\n",
    "\n",
    "<a id='3'></a>\n",
    "## 3 - Classical Machine Learning Models\n",
    "\n",
    "We seek to predict `pitch_name`. In this section, our approach will feature classical machine learning models and will use the `pitcher` feature. This is a strong assumption, as it tailors the model to specific pitchers repetoires instead of just the observable properties of the pitch. As an example, if pitcher X throws only a `4-Seam Fastball`, a `Slider`, and a `Changeup`, the model may be able to isolate `4-Seam Fastball` by `release_speed` alone and separate `Slider` and `Changeup` based on `ax`. In a setting without the `pitcher` feature, the model will have to separate all 10 values of `pitch_name` on physical characteristics without knowing a specific pitcher's pitch mix. We will investigate this more in Section 4, where we will also compare classical methods against a neural network. \n",
    "\n",
    "For now, we begin by identifying our categorical and continuous features."
   ]
  },
  {
   "cell_type": "code",
   "execution_count": null,
   "id": "7e958590-5416-4bea-a38c-315c2fbd514a",
   "metadata": {},
   "outputs": [],
   "source": [
    "categorical_features = ['pitcher', 'p_throws']\n",
    "continuous_features = ['release_speed', 'ax', 'az', 'release_spin_rate', 'spin_axis']\n",
    "all_features = ['pitcher', 'p_throws', 'release_speed', 'ax', 'az', 'release_spin_rate', 'spin_axis']"
   ]
  },
  {
   "cell_type": "markdown",
   "id": "82cf7154-7bee-4209-86de-f8e5cbfc87ab",
   "metadata": {},
   "source": [
    "We will also use the same pre-processor for all of our (non-baseline) models in this section, so we define it here."
   ]
  },
  {
   "cell_type": "code",
   "execution_count": null,
   "id": "1c29f040-6685-4267-90e5-a22414178a4d",
   "metadata": {},
   "outputs": [],
   "source": [
    "int_preprocessor = ColumnTransformer(\n",
    "    transformers=[\n",
    "            ('categorical', OneHotEncoder(handle_unknown='ignore'), categorical_features),\n",
    "            ('continuous', StandardScaler(), continuous_features)\n",
    "        ],\n",
    "    remainder='passthrough'\n",
    ")"
   ]
  },
  {
   "cell_type": "markdown",
   "id": "901c3984-a91c-4ada-b665-0e870143a70b",
   "metadata": {},
   "source": [
    "<a id='3.1'></a>\n",
    "### 3.1 - Train-Test Splits\n",
    "\n",
    "We stratify our train-test splits by pitcher, to ensure that every pitcher is represented in the test data and the training data. Nonetheless, we verify that we have similar distributions of pitch types in both the overall and training datasets."
   ]
  },
  {
   "cell_type": "code",
   "execution_count": null,
   "id": "5419ad1a-52b8-4096-a78e-817a579df08f",
   "metadata": {},
   "outputs": [],
   "source": [
    "kfold_splits = 10\n",
    "\n",
    "int_train, int_test = train_test_split(intrinsic_df,\n",
    "                                        test_size=0.2,\n",
    "                                        shuffle=True,\n",
    "                                        random_state=540,\n",
    "                                        stratify=intrinsic_df['pitcher'])"
   ]
  },
  {
   "cell_type": "code",
   "execution_count": null,
   "id": "06b181e3-00b6-4f31-8c12-4a9fc016d21f",
   "metadata": {},
   "outputs": [],
   "source": [
    "intrinsic_df.pitch_name.value_counts(normalize=True)"
   ]
  },
  {
   "cell_type": "code",
   "execution_count": null,
   "id": "3de19089-4795-4346-90de-76ef7850d6c8",
   "metadata": {},
   "outputs": [],
   "source": [
    "int_train.pitch_name.value_counts(normalize=True)"
   ]
  },
  {
   "cell_type": "markdown",
   "id": "5eaafe1d-1340-4c01-ad70-d0e4b2d61378",
   "metadata": {},
   "source": [
    "<a id='3.2'></a>\n",
    "### 3.2 - Baseline Model\n",
    "\n",
    "For our baseline model, we will randomly predict pitch names based on the overall distribution of `intrinsic_df`."
   ]
  },
  {
   "cell_type": "code",
   "execution_count": null,
   "id": "84e852d9-d6d0-485c-b29d-602dbc872294",
   "metadata": {},
   "outputs": [],
   "source": [
    "number_of_observations = 100\n",
    "int_baseline_accs = []\n",
    "int_baseline_prf_array = np.zeros((number_of_observations,3,10))\n",
    "\n",
    "print('Baseline Model Start: ' + str(time.ctime()))\n",
    "print()\n",
    "for observation in range(number_of_observations):\n",
    "    obs_list = []\n",
    "    for counter in range(len(int_train)):\n",
    "        random_draw = np.random.randint(1,1000000)\n",
    "        if random_draw <= 321041:\n",
    "            obs_list.append('4-Seam Fastball')\n",
    "        elif random_draw <= 486118:\n",
    "            obs_list.append('Slider')\n",
    "        elif random_draw <= 640106:\n",
    "            obs_list.append('Sinker')\n",
    "        elif random_draw <= 748915:\n",
    "            obs_list.append('Changeup')\n",
    "        elif random_draw <= 828942:\n",
    "            obs_list.append('Cutter')\n",
    "        elif random_draw <= 896031:\n",
    "            obs_list.append('Curveball')\n",
    "        elif random_draw <= 949661:\n",
    "            obs_list.append('Sweeper')\n",
    "        elif random_draw <= 973830:\n",
    "            obs_list.append('Split-Finger')\n",
    "        elif random_draw <= 992925:\n",
    "            obs_list.append('Knuckle Curve')\n",
    "        else:\n",
    "            obs_list.append('Other')\n",
    "    int_baseline_accs.append( accuracy_score(int_train.pitch_name.values, obs_list) )\n",
    "    # precision_recall_fscore_support computes precision, recall, fscore, and support for each class in multiclass classification\n",
    "    # it returns a 4-tuple of four arrays, each one has 10 entries (as we have 10 pitch names)\n",
    "    prfs_array = precision_recall_fscore_support(int_train.pitch_name.values, obs_list, labels=pitch_order, zero_division=0)\n",
    "    for metric_index in range(3):\n",
    "        for pitch_index in range(10):\n",
    "            if prfs_array[metric_index][pitch_index] == 0:\n",
    "                int_baseline_prf_array[observation, metric_index, pitch_index] = np.nan\n",
    "            else:\n",
    "                int_baseline_prf_array[observation, metric_index, pitch_index] = prfs_array[metric_index][pitch_index]\n",
    "    if (observation+1) % 5 == 0:\n",
    "        print(str(observation+1) + \" simulations complete at \" + str(time.ctime()))\n",
    "        \n",
    "\n",
    "\n",
    "int_baseline_prec_dict = {}\n",
    "int_baseline_rec_dict = {}\n",
    "int_baseline_fscore_dict = {}\n",
    "\n",
    "\n",
    "for split_counter in range(number_of_observations):\n",
    "    int_baseline_prec_dict['int_baseline_precision_split_'+str(split_counter)] = int_baseline_prf_array[split_counter, 0, :]\n",
    "    int_baseline_rec_dict['int_baseline_recall_split_'+str(split_counter)] = int_baseline_prf_array[split_counter, 1, :]\n",
    "    int_baseline_fscore_dict['int_baseline_f_score_split_'+str(split_counter)] = int_baseline_prf_array[split_counter, 2, :]\n",
    "\n",
    "int_baseline_precs = pd.DataFrame(\n",
    "    data=int_baseline_prec_dict,\n",
    "    index=pitch_order\n",
    ")\n",
    "\n",
    "int_baseline_recs = pd.DataFrame(\n",
    "    data=int_baseline_rec_dict,\n",
    "    index=pitch_order\n",
    ")\n",
    "\n",
    "int_baseline_fscores = pd.DataFrame(\n",
    "    data=int_baseline_fscore_dict,\n",
    "    index=pitch_order\n",
    ")\n",
    "\n",
    "\n",
    "int_baseline_prec_means_by_pitch_type = [\n",
    "    int_baseline_precs.loc[row].mean() for row in pitch_order\n",
    "]\n",
    "int_baseline_rec_means_by_pitch_type = [int_baseline_recs.loc[row].mean() for row in pitch_order]\n",
    "int_baseline_fscore_means_by_pitch_type = [int_baseline_fscores.loc[row].mean() for row in pitch_order]\n",
    "\n",
    "\n",
    "int_baseline_precs.insert(0, 'int_baseline_precision_mean', int_baseline_prec_means_by_pitch_type)\n",
    "int_baseline_recs.insert(0, 'int_baseline_recall_mean', int_baseline_rec_means_by_pitch_type)\n",
    "int_baseline_fscores.insert(0, 'int_baseline_fscore_mean', int_baseline_fscore_means_by_pitch_type)\n",
    "\n",
    "\n",
    "int_baseline_avg_acc_subtotal = 0\n",
    "for acc in int_baseline_accs:\n",
    "    int_baseline_avg_acc_subtotal += acc\n",
    "int_baseline_avg_acc = int_baseline_avg_acc_subtotal/number_of_observations\n",
    "\n",
    "int_baseline_metric_means = pd.DataFrame(\n",
    "    data={\n",
    "        'mean_accuracy':[int_baseline_avg_acc],\n",
    "        'mean_precision':[int_baseline_precs.int_baseline_precision_mean.mean()],\n",
    "        'mean_recall':[int_baseline_recs.int_baseline_recall_mean.mean()],\n",
    "        'mean_fscore':[int_baseline_fscores.int_baseline_fscore_mean.mean()],\n",
    "    },\n",
    "    index=['int_baseline']\n",
    ")\n",
    "\n",
    "int_baseline_metric_means"
   ]
  },
  {
   "cell_type": "markdown",
   "id": "72d78316-499d-4842-80db-6bd9e5877c91",
   "metadata": {},
   "source": [
    "<a id='3.3'></a>\n",
    "### 3.3 - Modeling with `k`-Nearest Neighbors\n",
    "\n",
    "Our first approach is to use `k`-nearest neighbors. We begin by tuning the hyperparameter `k`.\n",
    "\n",
    "<a id='3.3.1'></a>\n",
    "#### 3.3.1 - Tuning `k` with `GridSearchCV`\n",
    "\n",
    "Given the time required for a grid search, we have previously run the search and exported the results, which we load in directly and use to plot relevant features. However, we also provide the (commented out) original code. We will do this for all approaches."
   ]
  },
  {
   "cell_type": "code",
   "execution_count": null,
   "id": "7a12a407-4060-44f6-9c1d-739a2e720ccb",
   "metadata": {},
   "outputs": [],
   "source": [
    "#max_number_of_neighbors = 10\n",
    "    \n",
    "## Setting up the normalization pipeline\n",
    "#int_knn_pipeline = Pipeline([\n",
    "#    ('knn_preprocessor', int_preprocessor),\n",
    "#    ('knn', KNeighborsClassifier())\n",
    "#])\n",
    "\n",
    "## Creating the grid\n",
    "#int_knn_grid = GridSearchCV(\n",
    "#    int_knn_pipeline,\n",
    "#    param_grid={\n",
    "#        'knn__n_neighbors':range(1,max_number_of_neighbors+1),\n",
    "#    },\n",
    "#    scoring='accuracy',\n",
    "#    cv=5,\n",
    "#    verbose=100\n",
    "#)\n",
    "\n",
    "#print('Fitting up to k=' + str(max_number_of_neighbors) + ' started at ' + str(time.ctime()))\n",
    "#print()\n",
    "\n",
    "## Fitting the grid\n",
    "#int_knn_grid.fit(int_train[all_features], int_train.pitch_name)\n",
    "\n",
    "#print('Fitting up to k=' + str(max_number_of_neighbors) + ' ended at ' + str(time.ctime()))"
   ]
  },
  {
   "cell_type": "code",
   "execution_count": null,
   "id": "d97f6614-3194-4973-b256-0918a1e6ebcf",
   "metadata": {},
   "outputs": [],
   "source": [
    "#int_knn_grid_results = pd.DataFrame(data=int_knn_grid.cv_results_)\n",
    "\n",
    "#int_knn_grid_results_order = [\n",
    "#    'rank_test_score',\n",
    "#    'mean_test_score',\n",
    "#    'param_knn__n_neighbors',\n",
    "#    'mean_fit_time',\n",
    "#    'mean_score_time',\n",
    "#    'split0_test_score',\n",
    "#    'split1_test_score',\n",
    "#    'split2_test_score',\n",
    "#    'split3_test_score',\n",
    "#    'split4_test_score'\n",
    "#]\n",
    "\n",
    "#int_knn_grid_results = int_knn_grid_results[int_knn_grid_results_order].sort_values(['rank_test_score', 'mean_fit_time'])\n",
    "\n",
    "#int_knn_grid_results.to_csv('int_knn_grid_results.csv', index=False)"
   ]
  },
  {
   "cell_type": "code",
   "execution_count": null,
   "id": "76257d35-f3f8-4a55-9c6a-84f96914e9c1",
   "metadata": {},
   "outputs": [],
   "source": [
    "int_knn_grid_results_csv = pd.read_csv('int_knn_grid_results.csv')\n",
    "\n",
    "#int_knn_grid_results_csv"
   ]
  },
  {
   "cell_type": "code",
   "execution_count": null,
   "id": "0e583fbd-b1d5-4db5-89ca-877d10ca9c9c",
   "metadata": {},
   "outputs": [],
   "source": [
    "plt.figure(figsize=(12,6))\n",
    "lineplot = sns.lineplot(\n",
    "    data=int_knn_grid_results_csv,\n",
    "    x='param_knn__n_neighbors',\n",
    "    y='mean_test_score'\n",
    ")\n",
    "lineplot.set_xticks(range(1,11))\n",
    "plt.ylim(0.984,0.987)\n",
    "plt.show()"
   ]
  },
  {
   "cell_type": "code",
   "execution_count": null,
   "id": "1fccb7f4-78b5-4d2f-ad63-2ed8925ee8bd",
   "metadata": {},
   "outputs": [],
   "source": [
    "plt.figure(figsize=(12,6))\n",
    "lineplot = sns.lineplot(\n",
    "    data=int_knn_grid_results_csv,\n",
    "    x='param_knn__n_neighbors',\n",
    "    y='mean_fit_time'\n",
    ")\n",
    "lineplot.set_xticks(range(1,11))\n",
    "plt.ylim(1.05,1.35)\n",
    "plt.show()"
   ]
  },
  {
   "cell_type": "markdown",
   "id": "51d42e80-4543-4818-9298-341394b62739",
   "metadata": {},
   "source": [
    "<a id='3.3.2'></a>\n",
    "#### 3.3.2 - The `k`-Nearest Neighbors Model"
   ]
  },
  {
   "cell_type": "code",
   "execution_count": null,
   "id": "9da2a5d1-dd18-459f-9a48-9ac00846db51",
   "metadata": {},
   "outputs": [],
   "source": [
    "int_knn_kfold_rand_state = 124\n",
    "int_knn_kfold = StratifiedKFold(kfold_splits, shuffle=True, random_state=int_knn_kfold_rand_state)\n",
    "\n",
    "number_of_neighbors = 3\n",
    "int_knn_accs = []\n",
    "int_knn_prf_array = np.zeros((kfold_splits,3,10))\n",
    "\n",
    "print(\"Modeling starting at \" + str(time.ctime()))\n",
    "\n",
    "cv_counter = 0\n",
    "for train_index, test_index in int_knn_kfold.split(int_train, int_train.pitch_name):\n",
    "    print(' ')\n",
    "    print('Split ' + str(cv_counter) + ' starting at ' + str(time.ctime()))\n",
    "    # Splitting up our data using the indices from our kfold split\n",
    "    split_train = int_train.iloc[train_index]\n",
    "    split_test = int_train.iloc[test_index]\n",
    "    \n",
    "    # Setting up the normalization pipeline\n",
    "    int_knn_pipeline = Pipeline([\n",
    "        ('knn_preprocessor', int_preprocessor),\n",
    "        ('knn', KNeighborsClassifier(n_neighbors=number_of_neighbors))\n",
    "    ])\n",
    "    \n",
    "    # Fitting the pipeline\n",
    "    int_knn_pipeline.fit(split_train[all_features], split_train.pitch_name)\n",
    "    \n",
    "    # Predictions\n",
    "    split_pred = int_knn_pipeline.predict(split_test[all_features])\n",
    "    \n",
    "    # Evaluation metrics\n",
    "    int_knn_accs.append( accuracy_score(split_test.pitch_name, split_pred) )\n",
    "    prfs = precision_recall_fscore_support(split_test.pitch_name.values, split_pred, labels=pitch_order, zero_division=0)\n",
    "    for metric_index in range(3):\n",
    "        for pitch_index in range(10):\n",
    "            if prfs[metric_index][pitch_index] == 0:\n",
    "                int_knn_prf_array[cv_counter, metric_index, pitch_index] = np.nan\n",
    "            else:\n",
    "                int_knn_prf_array[cv_counter, metric_index, pitch_index] = prfs[metric_index][pitch_index]\n",
    "    print('Split ' + str(cv_counter) + ' ending at ' + str(time.ctime()))\n",
    "    cv_counter += 1\n",
    "\n",
    "int_knn_prec_dict = {}\n",
    "int_knn_rec_dict = {}\n",
    "int_knn_fscore_dict = {}\n",
    "\n",
    "\n",
    "for split_counter in range(kfold_splits):\n",
    "    int_knn_prec_dict['int_knn_precision_split_'+str(split_counter)] = int_knn_prf_array[split_counter, 0, :]\n",
    "    int_knn_rec_dict['int_knn_recall_split_'+str(split_counter)] = int_knn_prf_array[split_counter, 1, :]\n",
    "    int_knn_fscore_dict['int_knn_f_score_split_'+str(split_counter)] = int_knn_prf_array[split_counter, 2, :]\n",
    "\n",
    "int_knn_precs = pd.DataFrame(\n",
    "    data=int_knn_prec_dict,\n",
    "    index=pitch_order\n",
    ")\n",
    "\n",
    "int_knn_recs = pd.DataFrame(\n",
    "    data=int_knn_rec_dict,\n",
    "    index=pitch_order\n",
    ")\n",
    "\n",
    "int_knn_fscores = pd.DataFrame(\n",
    "    data=int_knn_fscore_dict,\n",
    "    index=pitch_order\n",
    ")\n",
    "\n",
    "\n",
    "int_knn_prec_means_by_pitch_type = [int_knn_precs.loc[row].mean() for row in pitch_order]\n",
    "int_knn_rec_means_by_pitch_type = [int_knn_recs.loc[row].mean() for row in pitch_order]\n",
    "int_knn_fscore_means_by_pitch_type = [int_knn_fscores.loc[row].mean() for row in pitch_order]\n",
    "\n",
    "\n",
    "int_knn_precs.insert(0, 'int_knn_precision_mean', int_knn_prec_means_by_pitch_type)\n",
    "int_knn_recs.insert(0, 'int_knn_recall_mean', int_knn_rec_means_by_pitch_type)\n",
    "int_knn_fscores.insert(0, 'int_knn_fscore_mean', int_knn_fscore_means_by_pitch_type)\n",
    "\n",
    "\n",
    "int_knn_avg_acc_subtotal = 0\n",
    "for acc in int_knn_accs:\n",
    "    int_knn_avg_acc_subtotal += acc\n",
    "int_knn_avg_acc = int_knn_avg_acc_subtotal/kfold_splits\n",
    "\n",
    "int_knn_metric_means = pd.DataFrame(\n",
    "    data={\n",
    "        'mean_accuracy':[int_knn_avg_acc],\n",
    "        'mean_precision':[int_knn_precs.int_knn_precision_mean.mean()],\n",
    "        'mean_recall':[int_knn_recs.int_knn_recall_mean.mean()],\n",
    "        'mean_fscore':[int_knn_fscores.int_knn_fscore_mean.mean()],\n",
    "    },\n",
    "    index=['int_knn']\n",
    ")\n",
    "\n",
    "int_knn_metric_means"
   ]
  },
  {
   "cell_type": "markdown",
   "id": "9d7fc1db-85f8-4630-a4c6-06d8d0b9aa11",
   "metadata": {},
   "source": [
    "<a id='3.4'></a>\n",
    "### 3.4 - Modeling with a Decision Tree\n",
    "\n",
    "We begin by tuning the hyperparameters `splitter` and `max_depth`.\n",
    "\n",
    "<a id='3.4.1'></a>\n",
    "#### 3.4.1 - Tuning `splitter` and `max_depth` with `GridSearchCV`"
   ]
  },
  {
   "cell_type": "code",
   "execution_count": null,
   "id": "f61e2043-d17d-4473-a6ce-dfeb590e7c48",
   "metadata": {},
   "outputs": [],
   "source": [
    "## Setting up the normalization pipeline\n",
    "#int_tree_pipeline = Pipeline([\n",
    "#    ('tree_preprocessor', int_preprocessor),\n",
    "#    ('tree', DecisionTreeClassifier())\n",
    "#])\n",
    "\n",
    "## Creating the grid\n",
    "#int_tree_grid = GridSearchCV(\n",
    "#    int_tree_pipeline,\n",
    "#    param_grid={\n",
    "#        'tree__splitter':['best', 'random'],\n",
    "#        'tree__max_depth':range(10,101,10),\n",
    "#    },\n",
    "#    scoring='accuracy',\n",
    "#    cv=5,\n",
    "#    verbose=4\n",
    "#)\n",
    "\n",
    "#print('Fitting started at ' + str(time.ctime()))\n",
    "#print()\n",
    "\n",
    "## Fitting the grid\n",
    "#int_tree_grid.fit(int_train[all_features], int_train.pitch_name)\n",
    "\n",
    "#print('Fitting ended at ' + str(time.ctime()))"
   ]
  },
  {
   "cell_type": "code",
   "execution_count": null,
   "id": "739a0be2-380b-4f2f-8e5f-c16b0ea536ff",
   "metadata": {},
   "outputs": [],
   "source": [
    "#int_tree_grid_results = pd.DataFrame(data=int_tree_grid.cv_results_)\n",
    "\n",
    "#int_tree_grid_results_order = [\n",
    "#    'rank_test_score',\n",
    "#    'mean_test_score',\n",
    "#    'param_tree__splitter',\n",
    "#    'param_tree__max_depth',\n",
    "#    'mean_fit_time',\n",
    "#    'mean_score_time',\n",
    "#    'split0_test_score',\n",
    "#    'split1_test_score',\n",
    "#    'split2_test_score',\n",
    "#    'split3_test_score',\n",
    "#    'split4_test_score'\n",
    "#]\n",
    "\n",
    "#int_tree_grid_results = int_tree_grid_results[int_tree_grid_results_order].sort_values(['rank_test_score', 'mean_fit_time'])\n",
    "\n",
    "#int_tree_grid_results.to_csv('int_tree_grid_results.csv', index=False)"
   ]
  },
  {
   "cell_type": "code",
   "execution_count": null,
   "id": "9db733f8-90b0-4cf9-be28-52cac72fcf31",
   "metadata": {},
   "outputs": [],
   "source": [
    "int_tree_grid_results_csv = pd.read_csv('int_tree_grid_results.csv')\n",
    "\n",
    "# int_tree_grid_results_csv"
   ]
  },
  {
   "cell_type": "code",
   "execution_count": null,
   "id": "21a347e5-25eb-470a-ac8f-dd643ab1b710",
   "metadata": {},
   "outputs": [],
   "source": [
    "plt.figure(figsize=(12,6))\n",
    "lineplot = sns.lineplot(\n",
    "    data=int_tree_grid_results_csv,\n",
    "    x='param_tree__max_depth',\n",
    "    y='mean_test_score',\n",
    "    hue='param_tree__splitter',\n",
    "    hue_order = ['best', 'random']\n",
    ")\n",
    "plt.ylim(0.775,0.975)\n",
    "plt.show()"
   ]
  },
  {
   "cell_type": "code",
   "execution_count": null,
   "id": "9f47de62-1a45-481e-823e-7a6e37b5d7bd",
   "metadata": {},
   "outputs": [],
   "source": [
    "plt.figure(figsize=(12,6))\n",
    "lineplot = sns.lineplot(\n",
    "    data=int_tree_grid_results_csv,\n",
    "    x='param_tree__max_depth',\n",
    "    y='mean_fit_time',\n",
    "    hue='param_tree__splitter',\n",
    "    hue_order = ['best', 'random']\n",
    ")\n",
    "plt.ylim(0,80)\n",
    "plt.show()"
   ]
  },
  {
   "cell_type": "markdown",
   "id": "04b1812c-bfa0-4abe-afb7-1d0f7166f42d",
   "metadata": {},
   "source": [
    "<a id='3.4.2'></a>\n",
    "#### 3.4.2 - The Decision Tree Model"
   ]
  },
  {
   "cell_type": "code",
   "execution_count": null,
   "id": "7b161cd1-f700-4e73-afc1-9d469f35bcfe",
   "metadata": {},
   "outputs": [],
   "source": [
    "int_tree_kfold_rand_state = 352\n",
    "int_tree_kfold = StratifiedKFold(kfold_splits, shuffle=True, random_state=int_tree_kfold_rand_state)\n",
    "\n",
    "tree_max_depth = 60\n",
    "int_tree_accs = []\n",
    "int_tree_prf_array = np.zeros((kfold_splits,3,10))\n",
    "\n",
    "print(\"Modeling starting at \" + str(time.ctime()))\n",
    "\n",
    "cv_counter = 0\n",
    "for train_index, test_index in int_tree_kfold.split(int_train, int_train.pitch_name):\n",
    "    print(' ')\n",
    "    print('Split ' + str(cv_counter) + ' starting at ' + str(time.ctime()))\n",
    "    # Splitting up our data using the indices from our kfold split\n",
    "    split_train = int_train.iloc[train_index]\n",
    "    split_test = int_train.iloc[test_index]\n",
    "    \n",
    "    # Setting up the normalization pipeline\n",
    "    int_tree_pipeline = Pipeline([\n",
    "        ('tree_preprocessor', int_preprocessor),\n",
    "        ('tree', DecisionTreeClassifier(max_depth=tree_max_depth, splitter='best'))\n",
    "    ])\n",
    "    \n",
    "    # Fitting the pipeline\n",
    "    int_tree_pipeline.fit(split_train[all_features], split_train.pitch_name)    \n",
    "    \n",
    "    # Predictions\n",
    "    split_pred = int_tree_pipeline.predict(split_test[all_features])\n",
    "    \n",
    "    # Evaluation metrics\n",
    "    int_tree_accs.append( accuracy_score(split_test.pitch_name, split_pred) )\n",
    "    prfs = precision_recall_fscore_support(split_test.pitch_name.values, split_pred, labels=pitch_order, zero_division=0)\n",
    "    for metric_index in range(3):\n",
    "        for pitch_index in range(10):\n",
    "            if prfs[metric_index][pitch_index] == 0:\n",
    "                int_tree_prf_array[cv_counter, metric_index, pitch_index] = np.nan\n",
    "            else:\n",
    "                int_tree_prf_array[cv_counter, metric_index, pitch_index] = prfs[metric_index][pitch_index]\n",
    "    print('Split ' + str(cv_counter) + ' ending at ' + str(time.ctime()))\n",
    "    cv_counter += 1\n",
    "\n",
    "\n",
    "\n",
    "int_tree_prec_dict = {}\n",
    "int_tree_rec_dict = {}\n",
    "int_tree_fscore_dict = {}\n",
    "\n",
    "\n",
    "for split_counter in range(kfold_splits):\n",
    "    int_tree_prec_dict['int_tree_precision_split_'+str(split_counter)] = int_tree_prf_array[split_counter, 0, :]\n",
    "    int_tree_rec_dict['int_tree_recall_split_'+str(split_counter)] = int_tree_prf_array[split_counter, 1, :]\n",
    "    int_tree_fscore_dict['int_tree_f_score_split_'+str(split_counter)] = int_tree_prf_array[split_counter, 2, :]\n",
    "\n",
    "int_tree_precs = pd.DataFrame(\n",
    "    data=int_tree_prec_dict,\n",
    "    index=pitch_order\n",
    ")\n",
    "\n",
    "int_tree_recs = pd.DataFrame(\n",
    "    data=int_tree_rec_dict,\n",
    "    index=pitch_order\n",
    ")\n",
    "\n",
    "int_tree_fscores = pd.DataFrame(\n",
    "    data=int_tree_fscore_dict,\n",
    "    index=pitch_order\n",
    ")\n",
    "\n",
    "\n",
    "int_tree_prec_means_by_pitch_type = [int_tree_precs.loc[row].mean() for row in pitch_order]\n",
    "int_tree_rec_means_by_pitch_type = [int_tree_recs.loc[row].mean() for row in pitch_order]\n",
    "int_tree_fscore_means_by_pitch_type = [int_tree_fscores.loc[row].mean() for row in pitch_order]\n",
    "\n",
    "\n",
    "int_tree_precs.insert(0, 'int_tree_precision_mean', int_tree_prec_means_by_pitch_type)\n",
    "int_tree_recs.insert(0, 'int_tree_recall_mean', int_tree_rec_means_by_pitch_type)\n",
    "int_tree_fscores.insert(0, 'int_tree_fscore_mean', int_tree_fscore_means_by_pitch_type)\n",
    "\n",
    "\n",
    "int_tree_avg_acc_subtotal = 0\n",
    "for acc in int_tree_accs:\n",
    "    int_tree_avg_acc_subtotal += acc\n",
    "int_tree_avg_acc = int_tree_avg_acc_subtotal/kfold_splits\n",
    "\n",
    "int_tree_metric_means = pd.DataFrame(\n",
    "    data={\n",
    "        'mean_accuracy':[int_tree_avg_acc],\n",
    "        'mean_precision':[int_tree_precs.int_tree_precision_mean.mean()],\n",
    "        'mean_recall':[int_tree_recs.int_tree_recall_mean.mean()],\n",
    "        'mean_fscore':[int_tree_fscores.int_tree_fscore_mean.mean()],\n",
    "    },\n",
    "    index=['int_tree']\n",
    ")\n",
    "\n",
    "int_tree_metric_means"
   ]
  },
  {
   "cell_type": "markdown",
   "id": "767460ca-02da-4d2f-85f7-25328bd96e4d",
   "metadata": {},
   "source": [
    "<a id='3.5'></a>\n",
    "### 3.5 - Modeling with Random Forests\n",
    "\n",
    "We begin by tuning the hyperparameters `n_estimators` and `max_depth`.\n",
    "\n",
    "<a id='3.5.1'></a>\n",
    "#### 3.5.1 - Tuning `n_estimators` and `max_depth` with `GridSearchCV`"
   ]
  },
  {
   "cell_type": "code",
   "execution_count": null,
   "id": "e072d34a-be85-49e2-94a9-e839f01c23d6",
   "metadata": {},
   "outputs": [],
   "source": [
    "## Setting up the normalization pipeline\n",
    "#int_forest_pipeline = Pipeline([\n",
    "#    ('forest_preprocessor', int_preprocessor),\n",
    "#    ('forest', RandomForestClassifier())\n",
    "#])\n",
    "\n",
    "## Creating the grid\n",
    "#int_forest_grid = GridSearchCV(\n",
    "#    int_forest_pipeline,\n",
    "#    param_grid={\n",
    "#        'forest__n_estimators':[10,50,100],\n",
    "#        'forest__max_depth':range(10,101,10),\n",
    "#    },\n",
    "#    scoring='accuracy',\n",
    "#    cv=5,\n",
    "#    verbose=4\n",
    "#)\n",
    "\n",
    "#print('Fitting started at ' + str(time.ctime()))\n",
    "#print()\n",
    "\n",
    "##Fitting the grid\n",
    "#int_forest_grid.fit(int_train[all_features], int_train.pitch_name)\n",
    "\n",
    "#print('Fitting ended at ' + str(time.ctime()))"
   ]
  },
  {
   "cell_type": "code",
   "execution_count": null,
   "id": "32d190b3-5b8a-4a71-9316-71b8d633cf9d",
   "metadata": {},
   "outputs": [],
   "source": [
    "#int_forest_grid_results = pd.DataFrame(data=int_forest_grid.cv_results_)\n",
    "\n",
    "#int_forest_grid_results_order = [\n",
    "#    'rank_test_score',\n",
    "#    'mean_test_score',\n",
    "#    'param_knn__n_neighbors',\n",
    "#    'mean_fit_time',\n",
    "#    'mean_score_time',\n",
    "#    'split0_test_score',\n",
    "#    'split1_test_score',\n",
    "#    'split2_test_score',\n",
    "#    'split3_test_score',\n",
    "#    'split4_test_score'\n",
    "#]\n",
    "\n",
    "#int_forest_grid_results = int_forest_grid_results[int_forest_grid_results_order].sort_values(['rank_test_score', 'mean_fit_time'])\n",
    "\n",
    "#int_forest_grid_results.to_csv('int_forest_grid_results.csv', index=False)"
   ]
  },
  {
   "cell_type": "code",
   "execution_count": null,
   "id": "7665f636-9412-4d10-a986-34fa2e58095c",
   "metadata": {},
   "outputs": [],
   "source": [
    "int_forest_grid_results_csv = pd.read_csv('int_forest_grid_results.csv')\n",
    "\n",
    "#int_forest_grid_results_csv"
   ]
  },
  {
   "cell_type": "code",
   "execution_count": null,
   "id": "42d95299-aae3-45f1-8586-cda0ac6625da",
   "metadata": {},
   "outputs": [],
   "source": [
    "plt.figure(figsize=(12,6))\n",
    "lineplot = sns.lineplot(\n",
    "    data=int_forest_grid_results_csv,\n",
    "    x='param_forest__max_depth',\n",
    "    y='mean_test_score',\n",
    "    hue='param_forest__n_estimators',\n",
    "    hue_order=[10,50,100]\n",
    ")\n",
    "plt.ylim(0.6,1)\n",
    "plt.show()"
   ]
  },
  {
   "cell_type": "code",
   "execution_count": null,
   "id": "6953849e-2dbf-41e7-a2e8-a1e173f3905a",
   "metadata": {},
   "outputs": [],
   "source": [
    "plt.figure(figsize=(12,6))\n",
    "lineplot = sns.lineplot(\n",
    "    data=int_forest_grid_results_csv,\n",
    "    x='param_forest__max_depth',\n",
    "    y='mean_fit_time',\n",
    "    hue='param_forest__n_estimators',\n",
    "    hue_order=[10,50,100]\n",
    ")\n",
    "plt.ylim(0,700)\n",
    "plt.show()"
   ]
  },
  {
   "cell_type": "markdown",
   "id": "912afa79-b9ee-4e55-a104-d7f134e85d21",
   "metadata": {},
   "source": [
    "<a id='3.5.2'></a>\n",
    "#### 3.5.2 - The Random Forest Model"
   ]
  },
  {
   "cell_type": "code",
   "execution_count": null,
   "id": "a23772a7-085b-4a53-ba2b-289e48f95024",
   "metadata": {},
   "outputs": [],
   "source": [
    "int_forest_kfold_rand_state = 301\n",
    "int_forest_kfold = StratifiedKFold(kfold_splits, shuffle=True, random_state=int_forest_kfold_rand_state)\n",
    "\n",
    "forest_max_depth = 80\n",
    "forest_number_of_estimators = 50\n",
    "int_forest_accs = []\n",
    "int_forest_prf_array = np.zeros((kfold_splits,3,10))\n",
    "\n",
    "print(\"Modeling starting at \" + str(time.ctime()))\n",
    "\n",
    "cv_counter = 0\n",
    "for train_index, test_index in int_forest_kfold.split(int_train, int_train.pitch_name):\n",
    "    print(' ')\n",
    "    print('Split ' + str(cv_counter) + ' starting at ' + str(time.ctime()))\n",
    "    # Splitting up our data using the indices from our kfold split\n",
    "    split_train = int_train.iloc[train_index]\n",
    "    split_test = int_train.iloc[test_index]\n",
    "    \n",
    "    # Setting up the normalization pipeline\n",
    "    int_forest_pipeline = Pipeline([\n",
    "        ('forest_preprocessor', int_preprocessor),\n",
    "        ('forest', RandomForestClassifier(n_estimators=forest_number_of_estimators, max_depth=forest_max_depth))\n",
    "    ])\n",
    "    \n",
    "    # Fitting the pipeline\n",
    "    int_forest_pipeline.fit(split_train[all_features], split_train.pitch_name)    \n",
    "    \n",
    "    # Predictions\n",
    "    split_pred = int_forest_pipeline.predict(split_test[all_features])\n",
    "    \n",
    "    # Evaluation metrics\n",
    "    int_forest_accs.append( accuracy_score(split_test.pitch_name, split_pred) )\n",
    "    prfs = precision_recall_fscore_support(split_test.pitch_name.values, split_pred, labels=pitch_order, zero_division=0)\n",
    "    for metric_index in range(3):\n",
    "        for pitch_index in range(10):\n",
    "            if prfs[metric_index][pitch_index] == 0:\n",
    "                int_forest_prf_array[cv_counter, metric_index, pitch_index] = np.nan\n",
    "            else:\n",
    "                int_forest_prf_array[cv_counter, metric_index, pitch_index] = prfs[metric_index][pitch_index]\n",
    "    print('Split ' + str(cv_counter) + ' ending at ' + str(time.ctime()))\n",
    "    cv_counter += 1\n",
    "\n",
    "\n",
    "\n",
    "int_forest_prec_dict = {}\n",
    "int_forest_rec_dict = {}\n",
    "int_forest_fscore_dict = {}\n",
    "\n",
    "\n",
    "for split_counter in range(kfold_splits):\n",
    "    int_forest_prec_dict['int_forest_precision_split_'+str(split_counter)] = int_forest_prf_array[split_counter, 0, :]\n",
    "    int_forest_rec_dict['int_forest_recall_split_'+str(split_counter)] = int_forest_prf_array[split_counter, 1, :]\n",
    "    int_forest_fscore_dict['int_forest_f_score_split_'+str(split_counter)] = int_forest_prf_array[split_counter, 2, :]\n",
    "\n",
    "int_forest_precs = pd.DataFrame(\n",
    "    data=int_forest_prec_dict,\n",
    "    index=pitch_order\n",
    ")\n",
    "\n",
    "int_forest_recs = pd.DataFrame(\n",
    "    data=int_forest_rec_dict,\n",
    "    index=pitch_order\n",
    ")\n",
    "\n",
    "int_forest_fscores = pd.DataFrame(\n",
    "    data=int_forest_fscore_dict,\n",
    "    index=pitch_order\n",
    ")\n",
    "\n",
    "\n",
    "int_forest_prec_means_by_pitch_type = [int_forest_precs.loc[row].mean() for row in pitch_order]\n",
    "int_forest_rec_means_by_pitch_type = [int_forest_recs.loc[row].mean() for row in pitch_order]\n",
    "int_forest_fscore_means_by_pitch_type = [int_forest_fscores.loc[row].mean() for row in pitch_order]\n",
    "\n",
    "\n",
    "int_forest_precs.insert(0, 'int_forest_precision_mean', int_forest_prec_means_by_pitch_type)\n",
    "int_forest_recs.insert(0, 'int_forest_recall_mean', int_forest_rec_means_by_pitch_type)\n",
    "int_forest_fscores.insert(0, 'int_forest_fscore_mean', int_forest_fscore_means_by_pitch_type)\n",
    "\n",
    "\n",
    "int_forest_avg_acc_subtotal = 0\n",
    "for acc in int_forest_accs:\n",
    "    int_forest_avg_acc_subtotal += acc\n",
    "int_forest_avg_acc = int_forest_avg_acc_subtotal/kfold_splits\n",
    "\n",
    "int_forest_metric_means = pd.DataFrame(\n",
    "    data={\n",
    "        'mean_accuracy':[int_forest_avg_acc],\n",
    "        'mean_precision':[int_forest_precs.int_forest_precision_mean.mean()],\n",
    "        'mean_recall':[int_forest_recs.int_forest_recall_mean.mean()],\n",
    "        'mean_fscore':[int_forest_fscores.int_forest_fscore_mean.mean()],\n",
    "    },\n",
    "    index=['int_forest']\n",
    ")\n",
    "\n",
    "int_forest_metric_means"
   ]
  },
  {
   "cell_type": "markdown",
   "id": "1b0695ed-0d04-485c-9621-220646f89b44",
   "metadata": {},
   "source": [
    "<a id='3.6'></a>\n",
    "### 3.6- Modeling with Extra Trees\n",
    "\n",
    "We begin by tuning the hyperparameters `n_estimators` and `max_depth`.\n",
    "\n",
    "<a id='3.6.1'></a>\n",
    "#### 3.6.1 - Tuning `n_estimators` and `max_depth` with `GridSearchCV`"
   ]
  },
  {
   "cell_type": "code",
   "execution_count": null,
   "id": "1d6303f0-12ea-4907-a6c9-4f831ef98abb",
   "metadata": {},
   "outputs": [],
   "source": [
    "## Setting up the normalization pipeline\n",
    "#int_extra_trees_pipeline = Pipeline([\n",
    "#    ('extra_trees_preprocessor', int_preprocessor),\n",
    "#    ('extra_trees', ExtraTreesClassifier())\n",
    "#])\n",
    "\n",
    "## Creating the grid\n",
    "#int_extra_trees_grid = GridSearchCV(\n",
    "#    int_extra_trees_pipeline,\n",
    "#    param_grid={\n",
    "#        'extra_trees__n_estimators':[10,50,100],\n",
    "#        'extra_trees__max_depth':range(10,101,10),\n",
    "#    },\n",
    "#    scoring='accuracy',\n",
    "#    cv=5,\n",
    "#    verbose=4\n",
    "#)\n",
    "\n",
    "#print('Fitting started at ' + str(time.ctime()))\n",
    "#print()\n",
    "\n",
    "##Fitting the grid\n",
    "#int_extra_trees_grid.fit(int_train[all_features], int_train.pitch_name)\n",
    "\n",
    "#print('Fitting ended at ' + str(time.ctime()))"
   ]
  },
  {
   "cell_type": "code",
   "execution_count": null,
   "id": "9041559d-8563-4e39-93f6-68635da950b7",
   "metadata": {},
   "outputs": [],
   "source": [
    "#int_extra_trees_grid_results = pd.DataFrame(data=int_extra_trees_grid.cv_results_)\n",
    "\n",
    "#int_extra_trees_grid_results_order = [\n",
    "#    'rank_test_score',\n",
    "#    'mean_test_score',\n",
    "#    'param_extra_trees__n_estimators',\n",
    "#    'param_extra_trees__max_depth',\n",
    "#    'mean_fit_time',\n",
    "#    'mean_score_time',\n",
    "#    'split0_test_score',\n",
    "#    'split1_test_score',\n",
    "#    'split2_test_score',\n",
    "#    'split3_test_score',\n",
    "#    'split4_test_score'\n",
    "#]\n",
    "\n",
    "#int_extra_trees_grid_results = int_extra_trees_grid_results[int_extra_trees_grid_results_order].sort_values(['rank_test_score', 'mean_fit_time'])\n",
    "\n",
    "#int_extra_trees_grid_results.to_csv('int_extra_trees_grid_results.csv', index=False)"
   ]
  },
  {
   "cell_type": "code",
   "execution_count": null,
   "id": "ec6b64c8-a1df-4a8e-a704-78d5166d3119",
   "metadata": {},
   "outputs": [],
   "source": [
    "int_extra_trees_grid_results_csv = pd.read_csv('int_extra_trees_grid_results.csv')\n",
    "\n",
    "#int_extra_trees_grid_results_csv"
   ]
  },
  {
   "cell_type": "code",
   "execution_count": null,
   "id": "59a47c72-aeb9-4e97-bc75-caa3a4a200f3",
   "metadata": {},
   "outputs": [],
   "source": [
    "plt.figure(figsize=(12,6))\n",
    "lineplot = sns.lineplot(\n",
    "    data=int_extra_trees_grid_results_csv,\n",
    "    x='param_extra_trees__max_depth',\n",
    "    y='mean_test_score',\n",
    "    hue='param_extra_trees__n_estimators',\n",
    "    hue_order=[10,50,100]\n",
    ")\n",
    "plt.show()"
   ]
  },
  {
   "cell_type": "code",
   "execution_count": null,
   "id": "389f8aaf-d19c-41f2-bb07-766b601d61a5",
   "metadata": {},
   "outputs": [],
   "source": [
    "plt.figure(figsize=(12,6))\n",
    "lineplot = sns.lineplot(\n",
    "    data=int_extra_trees_grid_results_csv,\n",
    "    x='param_extra_trees__max_depth',\n",
    "    y='mean_fit_time',\n",
    "    hue='param_extra_trees__n_estimators',\n",
    "    hue_order=[10,50,100]\n",
    ")\n",
    "plt.show()"
   ]
  },
  {
   "cell_type": "markdown",
   "id": "97232f0e-7baf-44b8-ba03-8d7e663a99c1",
   "metadata": {},
   "source": [
    "<a id='3.6.2'></a>\n",
    "#### 3.6.2 - The Extra Trees Model"
   ]
  },
  {
   "cell_type": "code",
   "execution_count": null,
   "id": "2c134a10-d8ba-42c5-b05c-e004fd1193a6",
   "metadata": {},
   "outputs": [],
   "source": [
    "int_extra_trees_kfold_rand_state = 902\n",
    "int_extra_trees_kfold = StratifiedKFold(kfold_splits, shuffle=True, random_state=int_extra_trees_kfold_rand_state)\n",
    "\n",
    "extra_trees_max_depth = 90\n",
    "extra_trees_number_of_estimators = 50\n",
    "int_extra_trees_accs = []\n",
    "int_extra_trees_prf_array = np.zeros((kfold_splits,3,10))\n",
    "\n",
    "print(\"Modeling starting at \" + str(time.ctime()))\n",
    "\n",
    "cv_counter = 0\n",
    "for train_index, test_index in int_forest_kfold.split(int_train, int_train.pitch_name):\n",
    "    print(' ')\n",
    "    print('Split ' + str(cv_counter) + ' starting at ' + str(time.ctime()))\n",
    "    # Splitting up our data using the indices from our kfold split\n",
    "    split_train = int_train.iloc[train_index]\n",
    "    split_test = int_train.iloc[test_index]\n",
    "    \n",
    "    # Setting up the normalization pipeline\n",
    "    int_extra_trees_pipeline = Pipeline([\n",
    "        ('extra_trees_preprocessor', int_preprocessor),\n",
    "        ('extra_trees', ExtraTreesClassifier(n_estimators=extra_trees_number_of_estimators, max_depth=extra_trees_max_depth))\n",
    "    ])\n",
    "    \n",
    "    # Fitting the pipeline\n",
    "    int_extra_trees_pipeline.fit(split_train[all_features], split_train.pitch_name)    \n",
    "    \n",
    "    # Predictions\n",
    "    split_pred = int_extra_trees_pipeline.predict(split_test[all_features])\n",
    "    \n",
    "    # Evaluation metrics\n",
    "    int_extra_trees_accs.append( accuracy_score(split_test.pitch_name, split_pred) )\n",
    "    prfs = precision_recall_fscore_support(split_test.pitch_name.values, split_pred, labels=pitch_order, zero_division=0)\n",
    "    for metric_index in range(3):\n",
    "        for pitch_index in range(10):\n",
    "            if prfs[metric_index][pitch_index] == 0:\n",
    "                int_extra_trees_prf_array[cv_counter, metric_index, pitch_index] = np.nan\n",
    "            else:\n",
    "                int_extra_trees_prf_array[cv_counter, metric_index, pitch_index] = prfs[metric_index][pitch_index]\n",
    "    print('Split ' + str(cv_counter) + ' ending at ' + str(time.ctime()))\n",
    "    cv_counter += 1\n",
    "\n",
    "\n",
    "\n",
    "int_extra_trees_prec_dict = {}\n",
    "int_extra_trees_rec_dict = {}\n",
    "int_extra_trees_fscore_dict = {}\n",
    "\n",
    "\n",
    "for split_counter in range(kfold_splits):\n",
    "    int_extra_trees_prec_dict['int_extra_trees_precision_split_'+str(split_counter)] = int_extra_trees_prf_array[split_counter, 0, :]\n",
    "    int_extra_trees_rec_dict['int_extra_trees_recall_split_'+str(split_counter)] = int_extra_trees_prf_array[split_counter, 1, :]\n",
    "    int_extra_trees_fscore_dict['int_extra_trees_f_score_split_'+str(split_counter)] = int_extra_trees_prf_array[split_counter, 2, :]\n",
    "\n",
    "int_extra_trees_precs = pd.DataFrame(\n",
    "    data=int_extra_trees_prec_dict,\n",
    "    index=pitch_order\n",
    ")\n",
    "\n",
    "int_extra_trees_recs = pd.DataFrame(\n",
    "    data=int_extra_trees_rec_dict,\n",
    "    index=pitch_order\n",
    ")\n",
    "\n",
    "int_extra_trees_fscores = pd.DataFrame(\n",
    "    data=int_extra_trees_fscore_dict,\n",
    "    index=pitch_order\n",
    ")\n",
    "\n",
    "\n",
    "int_extra_trees_prec_means_by_pitch_type = [int_extra_trees_precs.loc[row].mean() for row in pitch_order]\n",
    "int_extra_trees_rec_means_by_pitch_type = [int_extra_trees_recs.loc[row].mean() for row in pitch_order]\n",
    "int_extra_trees_fscore_means_by_pitch_type = [int_extra_trees_fscores.loc[row].mean() for row in pitch_order]\n",
    "\n",
    "\n",
    "int_extra_trees_precs.insert(0, 'int_extra_trees_precision_mean', int_extra_trees_prec_means_by_pitch_type)\n",
    "int_extra_trees_recs.insert(0, 'int_extra_trees_recall_mean', int_extra_trees_rec_means_by_pitch_type)\n",
    "int_extra_trees_fscores.insert(0, 'int_extra_trees_fscore_mean', int_extra_trees_fscore_means_by_pitch_type)\n",
    "\n",
    "\n",
    "int_extra_trees_avg_acc_subtotal = 0\n",
    "for acc in int_extra_trees_accs:\n",
    "    int_extra_trees_avg_acc_subtotal += acc\n",
    "int_extra_trees_avg_acc = int_extra_trees_avg_acc_subtotal/kfold_splits\n",
    "\n",
    "int_extra_trees_metric_means = pd.DataFrame(\n",
    "    data={\n",
    "        'mean_accuracy':[int_extra_trees_avg_acc],\n",
    "        'mean_precision':[int_extra_trees_precs.int_extra_trees_precision_mean.mean()],\n",
    "        'mean_recall':[int_extra_trees_recs.int_extra_trees_recall_mean.mean()],\n",
    "        'mean_fscore':[int_extra_trees_fscores.int_extra_trees_fscore_mean.mean()],\n",
    "    },\n",
    "    index=['int_extra_trees']\n",
    ")\n",
    "\n",
    "int_extra_trees_metric_means"
   ]
  },
  {
   "cell_type": "markdown",
   "id": "6d2c96c2-e6c7-457b-aff0-bc2059791d00",
   "metadata": {},
   "source": [
    "<a id='3.7'></a>\n",
    "### 3.7 - Modeling with AdaBoost\n",
    "\n",
    "We begin by tuning the hyperparameter `n_estimators`.\n",
    "\n",
    "<a id='3.7.1'></a>\n",
    "#### 3.7.1 - Tuning `n_estimators` with `GridSearchCV`"
   ]
  },
  {
   "cell_type": "code",
   "execution_count": null,
   "id": "127ec96a-ef7b-408f-965b-6162932e3bea",
   "metadata": {},
   "outputs": [],
   "source": [
    "# Setting up the normalization pipeline\n",
    "#int_adaboost_pipeline = Pipeline([\n",
    "#    ('adaboost_preprocessor', int_preprocessor),\n",
    "#    ('adaboost', AdaBoostClassifier(DecisionTreeClassifier(max_depth=1), algorithm='SAMME.R'))\n",
    "#])\n",
    "\n",
    "## Creating the grid\n",
    "#int_adaboost_grid = GridSearchCV(\n",
    "#    int_adaboost_pipeline,\n",
    "#    param_grid={\n",
    "#        'adaboost__n_estimators':[10,100,250,500,750,1000]\n",
    "#    },\n",
    "#    scoring='accuracy',\n",
    "#    cv=5,\n",
    "#    verbose=4\n",
    "#)\n",
    "\n",
    "#print('Fitting started at ' + str(time.ctime()))\n",
    "#print()\n",
    "\n",
    "##Fitting the grid\n",
    "#int_adaboost_grid.fit(int_train[all_features], int_train.pitch_name)\n",
    "\n",
    "#print('Fitting ended at ' + str(time.ctime()))"
   ]
  },
  {
   "cell_type": "code",
   "execution_count": null,
   "id": "4335200a-b0bf-4bd7-8434-4707a8ed1918",
   "metadata": {},
   "outputs": [],
   "source": [
    "#int_adaboost_grid_results = pd.DataFrame(data=int_adaboost_grid.cv_results_)\n",
    "\n",
    "#int_adaboost_grid_results_order = [\n",
    "#    'rank_test_score',\n",
    "#    'mean_test_score',\n",
    "#    'param_adaboost__n_estimators',\n",
    "#    'mean_fit_time',\n",
    "#    'mean_score_time',\n",
    "#    'split0_test_score',\n",
    "#    'split1_test_score',\n",
    "#    'split2_test_score',\n",
    "#    'split3_test_score',\n",
    "#    'split4_test_score'\n",
    "#]\n",
    "\n",
    "#int_adaboost_grid_results = int_adaboost_grid_results[int_adaboost_grid_results_order].sort_values(['rank_test_score', 'mean_fit_time'])\n",
    "\n",
    "#int_adaboost_grid_results.to_csv('int_adaboost_grid_results.csv', index=False)"
   ]
  },
  {
   "cell_type": "code",
   "execution_count": null,
   "id": "eea0ae07-aab7-4f3e-9e75-cfe289bf05c8",
   "metadata": {},
   "outputs": [],
   "source": [
    "int_adaboost_grid_results_csv = pd.read_csv('int_adaboost_grid_results.csv')\n",
    "\n",
    "#int_adaboost_grid_results_csv"
   ]
  },
  {
   "cell_type": "code",
   "execution_count": null,
   "id": "07a3232f-d77e-49c3-8b1a-18b97cd36f2b",
   "metadata": {},
   "outputs": [],
   "source": [
    "plt.figure(figsize=(12,6))\n",
    "lineplot = sns.lineplot(\n",
    "    data=int_adaboost_grid_results_csv,\n",
    "    x='param_adaboost__n_estimators',\n",
    "    y='mean_test_score'\n",
    ")\n",
    "plt.show()"
   ]
  },
  {
   "cell_type": "code",
   "execution_count": null,
   "id": "c40b8f15-1524-4cbb-a0f4-fda5905e914b",
   "metadata": {},
   "outputs": [],
   "source": [
    "plt.figure(figsize=(12,6))\n",
    "lineplot = sns.lineplot(\n",
    "    data=int_adaboost_grid_results_csv,\n",
    "    x='param_adaboost__n_estimators',\n",
    "    y='mean_fit_time'\n",
    ")\n",
    "plt.show()"
   ]
  },
  {
   "cell_type": "markdown",
   "id": "d8fcd1cc-3b6a-4b2c-ab06-ffee39adb4fe",
   "metadata": {},
   "source": [
    "<a id='3.7.2'></a>\n",
    "#### 3.7.2 - The AdaBoost Model"
   ]
  },
  {
   "cell_type": "code",
   "execution_count": null,
   "id": "e39c3217-6771-4664-9a84-a346fbb284a1",
   "metadata": {},
   "outputs": [],
   "source": [
    "int_adaboost_kfold_rand_state = 807\n",
    "int_adaboost_kfold = StratifiedKFold(kfold_splits, shuffle=True, random_state=int_extra_trees_kfold_rand_state)\n",
    "\n",
    "adaboost_number_of_estimators = 10\n",
    "int_adaboost_accs = []\n",
    "int_adaboost_prf_array = np.zeros((kfold_splits,3,10))\n",
    "\n",
    "print(\"Modeling starting at \" + str(time.ctime()))\n",
    "\n",
    "cv_counter = 0\n",
    "for train_index, test_index in int_adaboost_kfold.split(int_train, int_train.pitch_name):\n",
    "    print(' ')\n",
    "    print('Split ' + str(cv_counter) + ' starting at ' + str(time.ctime()))\n",
    "    # Splitting up our data using the indices from our kfold split\n",
    "    split_train = int_train.iloc[train_index]\n",
    "    split_test = int_train.iloc[test_index]\n",
    "    \n",
    "    # Setting up the normalization pipeline\n",
    "    int_adaboost_pipeline = Pipeline([\n",
    "        ('adaboost_preprocessor', int_preprocessor),\n",
    "        ('adaboost', AdaBoostClassifier(\n",
    "            DecisionTreeClassifier(max_depth=1),\n",
    "            n_estimators=adaboost_number_of_estimators,\n",
    "            algorithm='SAMME.R')\n",
    "        )\n",
    "    ])\n",
    "    \n",
    "    # Fitting the pipeline\n",
    "    int_adaboost_pipeline.fit(split_train[all_features], split_train.pitch_name)    \n",
    "    \n",
    "    # Predictions\n",
    "    split_pred = int_adaboost_pipeline.predict(split_test[all_features])\n",
    "    \n",
    "    # Evaluation metrics\n",
    "    int_adaboost_accs.append( accuracy_score(split_test.pitch_name, split_pred) )\n",
    "    prfs = precision_recall_fscore_support(split_test.pitch_name.values, split_pred, labels=pitch_order, zero_division=0)\n",
    "    for metric_index in range(3):\n",
    "        for pitch_index in range(10):\n",
    "            if prfs[metric_index][pitch_index] == 0:\n",
    "                int_adaboost_prf_array[cv_counter, metric_index, pitch_index] = np.nan\n",
    "            else:\n",
    "                int_adaboost_prf_array[cv_counter, metric_index, pitch_index] = prfs[metric_index][pitch_index]\n",
    "    print('Split ' + str(cv_counter) + ' ending at ' + str(time.ctime()))\n",
    "    cv_counter += 1\n",
    "\n",
    "\n",
    "\n",
    "int_adaboost_prec_dict = {}\n",
    "int_adaboost_rec_dict = {}\n",
    "int_adaboost_fscore_dict = {}\n",
    "\n",
    "\n",
    "for split_counter in range(kfold_splits):\n",
    "    int_adaboost_prec_dict['int_adaboost_precision_split_'+str(split_counter)] = int_adaboost_prf_array[split_counter, 0, :]\n",
    "    int_adaboost_rec_dict['int_adaboost_recall_split_'+str(split_counter)] = int_adaboost_prf_array[split_counter, 1, :]\n",
    "    int_adaboost_fscore_dict['int_adaboost_f_score_split_'+str(split_counter)] = int_adaboost_prf_array[split_counter, 2, :]\n",
    "\n",
    "int_adaboost_precs = pd.DataFrame(\n",
    "    data=int_adaboost_prec_dict,\n",
    "    index=pitch_order\n",
    ")\n",
    "\n",
    "int_adaboost_recs = pd.DataFrame(\n",
    "    data=int_adaboost_rec_dict,\n",
    "    index=pitch_order\n",
    ")\n",
    "\n",
    "int_adaboost_fscores = pd.DataFrame(\n",
    "    data=int_adaboost_fscore_dict,\n",
    "    index=pitch_order\n",
    ")\n",
    "\n",
    "\n",
    "int_adaboost_prec_means_by_pitch_type = [int_adaboost_precs.loc[row].mean() for row in pitch_order]\n",
    "int_adaboost_rec_means_by_pitch_type = [int_adaboost_recs.loc[row].mean() for row in pitch_order]\n",
    "int_adaboost_fscore_means_by_pitch_type = [int_adaboost_fscores.loc[row].mean() for row in pitch_order]\n",
    "\n",
    "\n",
    "int_adaboost_precs.insert(0, 'int_adaboost_precision_mean', int_adaboost_prec_means_by_pitch_type)\n",
    "int_adaboost_recs.insert(0, 'int_adaboost_recall_mean', int_adaboost_rec_means_by_pitch_type)\n",
    "int_adaboost_fscores.insert(0, 'int_adaboost_fscore_mean', int_adaboost_fscore_means_by_pitch_type)\n",
    "\n",
    "\n",
    "int_adaboost_avg_acc_subtotal = 0\n",
    "for acc in int_adaboost_accs:\n",
    "    int_adaboost_avg_acc_subtotal += acc\n",
    "int_adaboost_avg_acc = int_adaboost_avg_acc_subtotal/kfold_splits\n",
    "\n",
    "int_adaboost_metric_means = pd.DataFrame(\n",
    "    data={\n",
    "        'mean_accuracy':[int_adaboost_avg_acc],\n",
    "        'mean_precision':[int_adaboost_precs.int_adaboost_precision_mean.mean()],\n",
    "        'mean_recall':[int_adaboost_recs.int_adaboost_recall_mean.mean()],\n",
    "        'mean_fscore':[int_adaboost_fscores.int_adaboost_fscore_mean.mean()],\n",
    "    },\n",
    "    index=['int_adaboost']\n",
    ")\n",
    "\n",
    "int_adaboost_metric_means"
   ]
  },
  {
   "cell_type": "markdown",
   "id": "d4ce41bf-7576-4bb1-bc1e-cfc0e28079fa",
   "metadata": {},
   "source": [
    "<a id='3.8'></a>\n",
    "### 3.8 - Summary Metrics for Classical Machine Learning Models\n",
    "\n",
    "We now consolidate accuracy, precision, recall, and f-score across all models in this section."
   ]
  },
  {
   "cell_type": "code",
   "execution_count": null,
   "id": "c953a2aa-b57f-43d5-92de-b8e4d62f4276",
   "metadata": {},
   "outputs": [],
   "source": [
    "int_metric_means_all_models = pd.concat(\n",
    "    [\n",
    "        int_baseline_metric_means,\n",
    "        int_knn_metric_means,\n",
    "        int_tree_metric_means,\n",
    "        int_forest_metric_means,\n",
    "        int_extra_trees_metric_means,\n",
    "        int_adaboost_metric_means,\n",
    "    ]\n",
    ")\n",
    "\n",
    "int_metric_means_all_models"
   ]
  },
  {
   "cell_type": "markdown",
   "id": "d6efa5f7-8bf7-48f7-9e31-2066630b7464",
   "metadata": {},
   "source": [
    "--------------------------------\n",
    "  \n",
    "<a id='4'></a>\n",
    "## 4 - Comparing with a Neural Network\n",
    "\n",
    "In this section, we construct a simple neural network to predict `pitch_name` without using the `pitcher` feature. For comparison, we also create a `k`-nearest neighbors model without the `pitcher` feature for comparison.\n",
    "\n",
    "<a id='4.1'></a>\n",
    "### 4.1 - Modeling with `k`-Nearest Neighbors"
   ]
  },
  {
   "cell_type": "code",
   "execution_count": null,
   "id": "dfec3869-e09a-47b5-a507-d9d1092dffdb",
   "metadata": {},
   "outputs": [],
   "source": [
    "all_features_no_pitcher = ['p_throws', 'release_speed', 'ax', 'az', 'release_spin_rate', 'spin_axis']\n",
    "\n",
    "no_pitcher_preprocessor = ColumnTransformer(\n",
    "    transformers=[\n",
    "            ('categorical', OneHotEncoder(), ['p_throws']),\n",
    "            ('continuous', StandardScaler(), continuous_features)\n",
    "        ],\n",
    "    remainder='passthrough')\n",
    "\n",
    "no_pitcher_pipeline = Pipeline([\n",
    "    ('no_pitcher_preprocessor', no_pitcher_preprocessor),\n",
    "    ('knn', KNeighborsClassifier())\n",
    "])"
   ]
  },
  {
   "cell_type": "markdown",
   "id": "3e960e26-3ac0-4d20-8584-12f734db4d2e",
   "metadata": {},
   "source": [
    "<a id='4.1.1'></a>\n",
    "#### 4.1.1 - Tuning `k` with `GridSearchCV`"
   ]
  },
  {
   "cell_type": "code",
   "execution_count": null,
   "id": "ffdecbac-1343-4958-9992-d8d466a1b628",
   "metadata": {},
   "outputs": [],
   "source": [
    "#no_pitcher_grid = GridSearchCV(\n",
    "#    no_pitcher_pipeline,\n",
    "#    param_grid={\n",
    "#        'knn__n_neighbors':range(1,max_number_of_neighbors+1),\n",
    "#    },\n",
    "#    scoring = 'accuracy',\n",
    "#    cv=5,\n",
    "#    verbose=2\n",
    "#)\n",
    "\n",
    "#print('Fitting up to k=' + str(max_number_of_neighbors) + ' started at ' + str(time.ctime()))\n",
    "#print()\n",
    "\n",
    "## Fitting the grid\n",
    "#no_pitcher_grid.fit(int_train[all_features_no_pitcher], int_train.pitch_name)\n",
    "\n",
    "#print('Fitting up to k=' + str(max_number_of_neighbors) + ' ended at ' + str(time.ctime()))"
   ]
  },
  {
   "cell_type": "code",
   "execution_count": null,
   "id": "d64d5e97-3c48-4f03-bef3-e02b05e01a8c",
   "metadata": {},
   "outputs": [],
   "source": [
    "#no_pitcher_grid_results = pd.DataFrame(data=no_pitcher_grid.cv_results_)\n",
    "\n",
    "#no_pitcher_grid_results_order = [\n",
    "#    'rank_test_score',\n",
    "#    'param_knn__n_neighbors',\n",
    "#    'mean_fit_time',\n",
    "#    'mean_score_time',\n",
    "#    'split0_test_score',\n",
    "#    'split1_test_score',\n",
    "#    'split2_test_score',\n",
    "#    'split3_test_score',\n",
    "#    'split4_test_score'\n",
    "#]\n",
    "\n",
    "#no_pitcher_grid_results = no_pitcher_grid_results[no_pitcher_grid_results_order].sort_values('rank_test_score', 'mean_fit_time'])\n",
    "\n",
    "#no_pitcher_grid_results.to_csv('no_pitcher_grid_results.csv', index=False)"
   ]
  },
  {
   "cell_type": "code",
   "execution_count": null,
   "id": "8755fe44-4a4b-4edd-95de-6e20c89ee80d",
   "metadata": {},
   "outputs": [],
   "source": [
    "no_pitcher_grid_results_csv = pd.read_csv('no_pitcher_grid_results.csv')\n",
    "\n",
    "#no_pitcher_grid_results_csv"
   ]
  },
  {
   "cell_type": "code",
   "execution_count": null,
   "id": "92a1597d-0464-4d9c-8fef-28000bd916fa",
   "metadata": {},
   "outputs": [],
   "source": [
    "plt.figure(figsize=(12,6))\n",
    "lineplot = sns.lineplot(data=no_pitcher_grid_results_csv, x='param_knn__n_neighbors', y='split0_test_score')\n",
    "lineplot.set_xticks(range(1,31))\n",
    "plt.ylim(0.8,0.86)\n",
    "plt.show()"
   ]
  },
  {
   "cell_type": "code",
   "execution_count": null,
   "id": "06bca1d3-a9db-421a-b83d-bbae542cb5ef",
   "metadata": {},
   "outputs": [],
   "source": [
    "plt.figure(figsize=(12,6))\n",
    "lineplot = sns.lineplot(data=no_pitcher_grid_results_csv, x='param_knn__n_neighbors', y='mean_fit_time')\n",
    "lineplot.set_xticks(range(1,31))\n",
    "plt.ylim(1.55, 1.95)\n",
    "plt.show()"
   ]
  },
  {
   "cell_type": "markdown",
   "id": "29f78845-c433-4939-aea8-af3e18204b1c",
   "metadata": {},
   "source": [
    "<a id='4.1.2'></a>\n",
    "#### 4.1.2 - Training the `k`-Nearest Neighbors Model"
   ]
  },
  {
   "cell_type": "code",
   "execution_count": null,
   "id": "9004d4d9-7029-4257-8e13-ff6176dcf101",
   "metadata": {},
   "outputs": [],
   "source": [
    "number_of_neighbors = 15\n",
    "no_pitcher_acc = 0\n",
    "no_pitcher_prf_array = np.zeros((3,10))\n",
    "\n",
    "# Fitting the pipeline\n",
    "no_pitcher_pipeline.fit(int_train[all_features_no_pitcher], int_train.pitch_name)"
   ]
  },
  {
   "cell_type": "markdown",
   "id": "0898351a-31d3-45bd-89b3-1876cfab383a",
   "metadata": {},
   "source": [
    "<a id='4.1.3'></a>\n",
    "#### 4.1.3 - Evaluating the `k`-Nearest Neighbors Model"
   ]
  },
  {
   "cell_type": "code",
   "execution_count": null,
   "id": "ed6a15f2-17b4-43e0-85c2-1a03cc52c28c",
   "metadata": {},
   "outputs": [],
   "source": [
    "# Predictions\n",
    "no_pitcher_pred = no_pitcher_pipeline.predict(int_test[all_features_no_pitcher])\n",
    "\n",
    "# Evaluating\n",
    "no_pitcher_acc = accuracy_score(int_test.pitch_name, no_pitcher_pred)\n",
    "no_pitcher_prfs = precision_recall_fscore_support(int_test.pitch_name.values, no_pitcher_pred, labels=pitch_order, zero_division=0)\n",
    "for metric_index in range(3):\n",
    "    for pitch_index in range(10):\n",
    "        if prfs[metric_index][pitch_index] == 0:\n",
    "            no_pitcher_prf_array[metric_index, pitch_index] = 0\n",
    "        else:\n",
    "            no_pitcher_prf_array[metric_index, pitch_index] = no_pitcher_prfs[metric_index][pitch_index]\n",
    "\n",
    "no_pitcher_metrics = pd.DataFrame(\n",
    "    data={\n",
    "        'precision': no_pitcher_prf_array[0, :],\n",
    "        'recall': no_pitcher_prf_array[1, :],\n",
    "        'f_score':no_pitcher_prf_array[0, :],\n",
    "    },\n",
    "    index = pitch_order\n",
    ")\n",
    "\n",
    "no_pitcher_metric_means = pd.DataFrame(\n",
    "    data={\n",
    "        'accuracy':[no_pitcher_acc],\n",
    "        'mean_precision':[no_pitcher_metrics.precision.mean()],\n",
    "        'mean_recall':[no_pitcher_metrics.recall.mean()],\n",
    "        'mean_fscore':[no_pitcher_metrics.f_score.mean()],\n",
    "    },\n",
    "    index=['no_pitcher_knn']\n",
    ")\n",
    "\n",
    "no_pitcher_metrics"
   ]
  },
  {
   "cell_type": "code",
   "execution_count": null,
   "id": "24c285c9-5125-4ef1-9ec4-a2ee0d4493d6",
   "metadata": {},
   "outputs": [],
   "source": [
    "no_pitcher_metric_means"
   ]
  },
  {
   "cell_type": "markdown",
   "id": "8b73edd1-f026-4c4f-9853-1e08c82208f3",
   "metadata": {},
   "source": [
    "<a id='4.2'></a>\n",
    "### 4.2 - Modeling with a Neural Network\n",
    "\n",
    "When using a neural network in PyTorch, we will need a dataset of tensors at a minimum. Consequently, we begin by normalizing our data - a step handled for our classical methods in the `ColumnTransformer` preprocessor. We will then create a `TensorDataset` which we format into a `Dataloader`.\n",
    "\n",
    "<a id='4.2.1'></a>\n",
    "#### 4.2.1 - Data Frame Normalization and Creating Dataloaders"
   ]
  },
  {
   "cell_type": "code",
   "execution_count": null,
   "id": "31af6aad-3bc6-451d-8eed-89741bc70e48",
   "metadata": {},
   "outputs": [],
   "source": [
    "# Copies of the data frames\n",
    "transition_train_data = int_train[['p_throws_binary', 'release_speed', 'ax', 'az', 'release_spin_rate', 'spin_axis']].copy()\n",
    "transition_train_labels = int_train['pitch_name_int'].copy()\n",
    "\n",
    "transition_test_data = int_test[['p_throws_binary', 'release_speed', 'ax', 'az', 'release_spin_rate', 'spin_axis']].copy()\n",
    "transition_test_labels = int_test['pitch_name_int'].copy()\n",
    "\n",
    "# Normalization\n",
    "release_speed_mean = intrinsic_df.release_speed.mean()\n",
    "release_speed_std = intrinsic_df.release_speed.std()\n",
    "ax_mean = intrinsic_df.ax.mean() \n",
    "ax_std = intrinsic_df.ax.std()\n",
    "az_mean = intrinsic_df.az.mean()\n",
    "az_std = intrinsic_df.az.std()\n",
    "release_spin_rate_mean = intrinsic_df.release_spin_rate.mean()\n",
    "release_spin_rate_std = intrinsic_df.release_spin_rate.std()\n",
    "spin_axis_mean = intrinsic_df.spin_axis.mean()\n",
    "spin_axis_std = intrinsic_df.spin_axis.std()\n",
    "\n",
    "transition_train_data['release_speed'] = (transition_train_data['release_speed'] - release_speed_mean)/(release_speed_std)\n",
    "transition_train_data['ax'] = (transition_train_data['ax'] - ax_mean)/(ax_std)\n",
    "transition_train_data['az'] = (transition_train_data['az'] - az_mean)/(az_std)\n",
    "transition_train_data['release_spin_rate'] = (transition_train_data['release_spin_rate'] - release_spin_rate_mean)/(release_spin_rate_std)\n",
    "transition_train_data['spin_axis'] = (transition_train_data['spin_axis'] - spin_axis_mean)/(spin_axis_std)\n",
    "\n",
    "transition_test_data['release_speed'] = (transition_test_data['release_speed'] - release_speed_mean)/(release_speed_std)\n",
    "transition_test_data['ax'] = (transition_test_data['ax'] - ax_mean)/(ax_std)\n",
    "transition_test_data['az'] = (transition_test_data['az'] - az_mean)/(az_std)\n",
    "transition_test_data['release_spin_rate'] = (transition_test_data['release_spin_rate'] - release_spin_rate_mean)/(release_spin_rate_std)\n",
    "transition_test_data['spin_axis'] = (transition_test_data['spin_axis'] - spin_axis_mean)/(spin_axis_std)\n",
    "\n",
    "\n",
    "# Tensors, TensorDatasets, and Dataloaders\n",
    "train_data_tensor = torch.from_numpy(transition_train_data.values).to(torch.float32)\n",
    "train_labels_tensor = torch.from_numpy(transition_train_labels.values).to(torch.long)\n",
    "\n",
    "test_data_tensor = torch.from_numpy(transition_test_data.values).to(torch.float32)\n",
    "test_labels_tensor = torch.from_numpy(transition_test_labels.values).to(torch.long)\n",
    "\n",
    "torch_train = TensorDataset(train_data_tensor, train_labels_tensor)\n",
    "torch_test = TensorDataset(test_data_tensor, test_labels_tensor)\n",
    "\n",
    "batch_size = 64\n",
    "int_train_loader = DataLoader(torch_train, batch_size=batch_size, shuffle=True)\n",
    "int_test_loader = DataLoader(torch_test, batch_size=batch_size, shuffle=False)"
   ]
  },
  {
   "cell_type": "markdown",
   "id": "facd7040-73bd-453c-bcab-07f4272a683c",
   "metadata": {},
   "source": [
    "<a id='4.2.2'></a>\n",
    "#### 4.2.2 - Defining and Instantiating `PitchClassifier`"
   ]
  },
  {
   "cell_type": "code",
   "execution_count": null,
   "id": "0023b10d-7758-450c-a09f-fb0956908020",
   "metadata": {},
   "outputs": [],
   "source": [
    "class PitchClassifier(nn.Module):\n",
    "    def __init__(self, number_of_features):\n",
    "        super(PitchClassifier, self).__init__()\n",
    "        self.first = nn.Linear(in_features=number_of_features, out_features=100)\n",
    "        self.hidden1 = nn.Linear(in_features=100, out_features=200)\n",
    "        self.hidden2 = nn.Linear(in_features=200, out_features=100)\n",
    "        self.last = nn.Linear(in_features=100, out_features=10)\n",
    "        self.softmax = nn.Softmax()\n",
    "\n",
    "    def forward(self, x):\n",
    "        first_output = self.first(x)\n",
    "        hidden1_output = self.hidden1(first_output)\n",
    "        hidden2_output = self.hidden2(hidden1_output)\n",
    "        last_output = self.last(hidden2_output)\n",
    "        return self.softmax(last_output)"
   ]
  },
  {
   "cell_type": "code",
   "execution_count": null,
   "id": "51ef0892-db0a-417d-850f-a1658f71a158",
   "metadata": {},
   "outputs": [],
   "source": [
    "pitch_model = PitchClassifier(6)\n",
    "\n",
    "criterion = nn.CrossEntropyLoss()\n",
    "optimizer = torch.optim.Adam(pitch_model.parameters(), lr=0.0001)"
   ]
  },
  {
   "cell_type": "markdown",
   "id": "a6b259d5-f743-420b-8e21-cf7321e536be",
   "metadata": {},
   "source": [
    "<a id='4.2.3'></a>\n",
    "#### 4.2.3 - Training the Classifier"
   ]
  },
  {
   "cell_type": "code",
   "execution_count": null,
   "id": "d95882bb-8bb8-4e74-b5f6-c8ac92ac78e4",
   "metadata": {},
   "outputs": [],
   "source": [
    "epochs = 100\n",
    "\n",
    "pitch_model.train()\n",
    "\n",
    "print(\"Model Training Started: \" + str(time.ctime()))\n",
    "for epoch in range(epochs):\n",
    "    total_loss = 0\n",
    "    processed = 0\n",
    "    for features, labels in int_train_loader:\n",
    "        pitch_model.zero_grad()\n",
    "        outputs = pitch_model(features)\n",
    "        loss = criterion(outputs, labels)\n",
    "        loss.backward()\n",
    "        optimizer.step()\n",
    "        total_loss += loss.item()\n",
    "        processed += len(features)\n",
    "        #print(\"Current Epoch: \" + str(epoch+1) + \", Current Loss: \" + str(total_loss) + \", Samples Processed: \" + str(processed))\n",
    "    if ((epoch+1)%5 == 0) or (epoch < 5):\n",
    "        print()\n",
    "        print(\"Epoch \" + str(epoch+1) + \" End: \" + str(time.ctime()))\n",
    "        print(\"Loss: \" + str(total_loss))"
   ]
  },
  {
   "cell_type": "markdown",
   "id": "31859562-86d2-4bab-aa51-1848220f11eb",
   "metadata": {},
   "source": [
    "<a id='4.2.4'></a>\n",
    "#### 4.2.4 - Evaluating the Classifier"
   ]
  },
  {
   "cell_type": "code",
   "execution_count": null,
   "id": "23adb7af-51a9-4a22-b388-30743303f50d",
   "metadata": {},
   "outputs": [],
   "source": [
    "torch_accuracy = Accuracy(task='multiclass', num_classes=10)\n",
    "torch_precision = Precision(task='multiclass', num_classes=10, average='macro')\n",
    "torch_recall = Recall(task='multiclass', num_classes=10, average='macro')\n",
    "\n",
    "pitch_model.eval()\n",
    "\n",
    "pitchclassifier_predicted = []\n",
    "\n",
    "for features, labels in int_train_loader:\n",
    "    outputs = pitch_model(features)\n",
    "    pred_classes = torch.argmax(outputs, dim=1)\n",
    "    pitchclassifier_predicted.extend(pred_classes.tolist())\n",
    "    torch_accuracy(pred_classes, labels)\n",
    "    torch_precision(pred_classes, labels)\n",
    "    torch_recall(pred_classes, labels)\n",
    "\n",
    "no_pitcher_nn_metrics = pd.DataFrame(\n",
    "    data={\n",
    "        'accuracy':[torch_accuracy.compute().item()],\n",
    "        'precision':[torch_precision.compute().item()],\n",
    "        'recall':[torch_recall.compute().item()],\n",
    "    },\n",
    "    index=['no_pitcher_neural_network']\n",
    ")\n",
    "\n",
    "no_pitcher_nn_metrics"
   ]
  },
  {
   "cell_type": "markdown",
   "id": "144829e9-63a8-44ee-b639-917ac82bd658",
   "metadata": {},
   "source": [
    "<a id='4.3'></a>\n",
    "### 4.3 - Summary Metrics for Both Models"
   ]
  },
  {
   "cell_type": "code",
   "execution_count": null,
   "id": "7b744da4-d2dd-48ad-aa72-7aeff2b8c12d",
   "metadata": {},
   "outputs": [],
   "source": [
    "comparing_no_pitcher_metrics = pd.concat(\n",
    "    [\n",
    "        no_pitcher_metric_means[['accuracy', 'mean_precision', 'mean_recall']].rename(columns={\n",
    "            'mean_precision':'precision',\n",
    "            'mean_recall':'recall'\n",
    "        }),\n",
    "        no_pitcher_nn_metrics\n",
    "    ],\n",
    "    ignore_index=False\n",
    ")\n",
    "\n",
    "comparing_no_pitcher_metrics"
   ]
  },
  {
   "cell_type": "markdown",
   "id": "f32cf8f4-ddd5-4d8f-95f8-1d0cd9057bd8",
   "metadata": {},
   "source": [
    "We see that while our `k`-nearest neighbors model does worse when missing the `pitcher` feature, it still outperforms this simple neural network across all metrics. However, a more complex neural network might be able to outperform the `k`-nearest neighbors model."
   ]
  },
  {
   "cell_type": "markdown",
   "id": "af116914-d3dc-48cc-8f1a-e63567716df3",
   "metadata": {},
   "source": [
    "--------------------------------"
   ]
  },
  {
   "cell_type": "markdown",
   "id": "8005d051-890d-45ef-82d6-fcb4d34f5cbf",
   "metadata": {},
   "source": [
    "<a id='A'></a>\n",
    "## Appendix A - Data Collection,  Cleaning, and Processing\n",
    "\n",
    "In this appendix, we describe how the data for this project was obtained, cleaned, and processed.\n",
    "\n",
    "<a id='A.1'></a>\n",
    "### A.1 - Accessing Raw Pitch Data\n",
    "\n",
    "In the notebook `2024 MLB Pitch Data - Month by Month Queries using Pybaseball`, we install the [pybaseball](https://github.com/jldbc/pybaseball) package and use it to download Statcast data from [Baseball Savant](https://baseballsavant.mlb.com/statcast_search). Given the amount of data we requested, we split the request into six queries. More specifically, we request Statcast data from\n",
    "* 20 Mar 2023 through 30 Apr 2023, which we export as `2024month1.csv`;\n",
    "* 01 May 2023 through 31 May 2023, which we export as `2024month2.csv`;\n",
    "* 01 Jun 2023 through 30 Jun 2023, which we export as `2024month3.csv`;\n",
    "* 01 Jul 2023 through 31 Jul 2023, which we export as `2024month4.csv`;\n",
    "* 01 Aug 2023 through 31 Aug 2023, which we export as `2024month5.csv`;\n",
    "* 01 Sep 2023 through 01 Oct 2023, which we export as `2024month6.csv`.\n",
    "\n",
    "<a id='A.2'></a>\n",
    "### A.2 - Merging and Cleaning\n",
    "\n",
    "In the notebook `2024 MLB Pitch Data - Merging, Cleaning, and Processing`, we begin by reading in `month1.csv`, `month2.csv`, `month3.csv`, `month4.csv`, `month5.csv`, and `month6.csv` as data frames, which we then merge together. We then restrict to features which will either be considered in our project or remain necessary for further preprocessing. We also restrict to pitches where all of these restricted features have non-null values.\n",
    "\n",
    "<a id='A.3'></a>\n",
    "### A.3 - Feature Engineering\n",
    "\n",
    "The pitch classes `Forkball`, `Eephus`, `Knuckleball`, `Screwball`, `Pitch Out`, and `Slow Curve` are outliers in 2024 MLB Pitching - we widen the `Other` class to include these outlier classes. Additionally, we omit the `pitch_type` feature, which is just an abbreviation of the `pitch_name` feature. We also create a binary version of the `p_throws` feature.\n",
    "\n",
    "<a id='A.4'></a>\n",
    "### A.4 - Exporting\n",
    "\n",
    "Finally, we export the data frame with the relevant feature set and non-null values as `intrinsic_features.csv`."
   ]
  }
 ],
 "metadata": {
  "kernelspec": {
   "display_name": "Python [conda env:base] *",
   "language": "python",
   "name": "conda-base-py"
  },
  "language_info": {
   "codemirror_mode": {
    "name": "ipython",
    "version": 3
   },
   "file_extension": ".py",
   "mimetype": "text/x-python",
   "name": "python",
   "nbconvert_exporter": "python",
   "pygments_lexer": "ipython3",
   "version": "3.11.5"
  }
 },
 "nbformat": 4,
 "nbformat_minor": 5
}
