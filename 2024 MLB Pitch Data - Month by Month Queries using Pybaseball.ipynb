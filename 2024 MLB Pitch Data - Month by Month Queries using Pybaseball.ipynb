{
 "cells": [
  {
   "cell_type": "markdown",
   "id": "25277df9",
   "metadata": {},
   "source": [
    "# 2024 MLB Pitch Data - Month by Month Queries using Pybaseball\n",
    "\n",
    "In this project, we will use publicly available data from Baseball Savant ([baseballsavant.mlb.com](https://baseballsavant.mlb.com)), which will be accessed using the `pybaseball` package ([pybaseball GitHub](https://github.com/jldbc/pybaseball/blob/master/docs/statcast.md)). \n",
    "\n",
    "For simplicity, we will access and save this data locally. This data was accessed and saved on 21 Feb 2025."
   ]
  },
  {
   "cell_type": "markdown",
   "id": "9c9258c4",
   "metadata": {},
   "source": [
    "## Installing Pybaseball\n",
    "\n",
    "It is only neccessary to install `pybaseball` once, hence we leave the following code commented out."
   ]
  },
  {
   "cell_type": "code",
   "execution_count": null,
   "id": "66ab057d",
   "metadata": {},
   "outputs": [],
   "source": [
    "# pip install pybaseball"
   ]
  },
  {
   "cell_type": "markdown",
   "id": "ee31e010",
   "metadata": {},
   "source": [
    "## Importing Necessary Packages\n",
    "\n",
    "Once `pybaseball` is installed, we import the necessary packages"
   ]
  },
  {
   "cell_type": "code",
   "execution_count": 1,
   "id": "3ce930ef",
   "metadata": {},
   "outputs": [],
   "source": [
    "import pandas as pd\n",
    "import pybaseball as pyb\n",
    "from pybaseball import statcast"
   ]
  },
  {
   "cell_type": "markdown",
   "id": "4f9e0f2a",
   "metadata": {},
   "source": [
    "## Getting Statcast Data\n",
    "\n",
    "The 2024 MLB regular season began with a two-game series between the Los Angeles Dodgers and San Diego Padres in Seoul, South Korea on March 20th and 21st and then ran from March 28th to September 30th. Given the amount of data being requested, we break up the season into 6 chunks (each approximately 1 month long) and save the each respective data frame as a CSV.\n",
    "\n",
    "Calling `statcast(date1, date2)` returns all pitch-level data from Statcast between `date1` and `date2`. Setting `verbose=True`provides progress as data is pulled."
   ]
  },
  {
   "cell_type": "markdown",
   "id": "31bb4e72",
   "metadata": {},
   "source": [
    "## Month 1 - March 20, 2024 through April 30, 2024"
   ]
  },
  {
   "cell_type": "code",
   "execution_count": 4,
   "id": "71da01c5",
   "metadata": {},
   "outputs": [
    {
     "name": "stdout",
     "output_type": "stream",
     "text": [
      "This is a large query, it may take a moment to complete\n"
     ]
    },
    {
     "name": "stderr",
     "output_type": "stream",
     "text": [
      "100%|██████████| 42/42 [00:33<00:00,  1.26it/s]\n"
     ]
    }
   ],
   "source": [
    "month1 = statcast('2024-03-20', '2024-04-30', verbose=True)\n",
    "\n",
    "month1.to_csv(\"2024month1.csv\")"
   ]
  },
  {
   "cell_type": "markdown",
   "id": "3364f798",
   "metadata": {},
   "source": [
    "## Month 2 - May 1, 2024 through May 31, 2024"
   ]
  },
  {
   "cell_type": "code",
   "execution_count": 8,
   "id": "099b381f",
   "metadata": {},
   "outputs": [
    {
     "name": "stdout",
     "output_type": "stream",
     "text": [
      "This is a large query, it may take a moment to complete\n"
     ]
    },
    {
     "name": "stderr",
     "output_type": "stream",
     "text": [
      "100%|██████████| 31/31 [00:27<00:00,  1.15it/s]\n"
     ]
    }
   ],
   "source": [
    "month2 = statcast('2023-05-01', '2023-05-31', verbose=True)\n",
    "\n",
    "month2.to_csv(\"2024month2.csv\")"
   ]
  },
  {
   "cell_type": "markdown",
   "id": "b68e875e",
   "metadata": {},
   "source": [
    "## Month 3 - June 1, 2024 through June 30, 2024"
   ]
  },
  {
   "cell_type": "code",
   "execution_count": 20,
   "id": "cfe8ab68",
   "metadata": {},
   "outputs": [
    {
     "name": "stdout",
     "output_type": "stream",
     "text": [
      "This is a large query, it may take a moment to complete\n"
     ]
    },
    {
     "name": "stderr",
     "output_type": "stream",
     "text": [
      "100%|██████████| 30/30 [00:26<00:00,  1.14it/s]\n"
     ]
    }
   ],
   "source": [
    "month3 = statcast('2023-06-01', '2023-06-30', verbose=True)\n",
    "\n",
    "month3.to_csv(\"2024month3.csv\")"
   ]
  },
  {
   "cell_type": "markdown",
   "id": "b7f63cf5",
   "metadata": {},
   "source": [
    "## Month 4 - July 1, 2024 through July 31, 2024"
   ]
  },
  {
   "cell_type": "code",
   "execution_count": 22,
   "id": "f03289ee",
   "metadata": {},
   "outputs": [
    {
     "name": "stdout",
     "output_type": "stream",
     "text": [
      "This is a large query, it may take a moment to complete\n"
     ]
    },
    {
     "name": "stderr",
     "output_type": "stream",
     "text": [
      "100%|██████████| 31/31 [00:24<00:00,  1.24it/s]\n"
     ]
    }
   ],
   "source": [
    "month4 = statcast('2023-07-01', '2023-07-31', verbose=True)\n",
    "\n",
    "month4.to_csv(\"2024month4.csv\")"
   ]
  },
  {
   "cell_type": "markdown",
   "id": "7211cf27",
   "metadata": {},
   "source": [
    "## Month 5 - August 1, 2024 through August 31, 2024"
   ]
  },
  {
   "cell_type": "code",
   "execution_count": 24,
   "id": "551ded29",
   "metadata": {},
   "outputs": [
    {
     "name": "stdout",
     "output_type": "stream",
     "text": [
      "This is a large query, it may take a moment to complete\n"
     ]
    },
    {
     "name": "stderr",
     "output_type": "stream",
     "text": [
      "100%|██████████| 31/31 [00:29<00:00,  1.04it/s]\n"
     ]
    }
   ],
   "source": [
    "month5 = statcast('2023-08-01', '2023-08-31', verbose=True)\n",
    "\n",
    "month5.to_csv(\"2024month5.csv\")"
   ]
  },
  {
   "cell_type": "markdown",
   "id": "84533e72",
   "metadata": {},
   "source": [
    "## Month 6 - September 1, 2024 through September 30, 2024"
   ]
  },
  {
   "cell_type": "code",
   "execution_count": 26,
   "id": "e4b2de5c",
   "metadata": {},
   "outputs": [
    {
     "name": "stdout",
     "output_type": "stream",
     "text": [
      "This is a large query, it may take a moment to complete\n"
     ]
    },
    {
     "name": "stderr",
     "output_type": "stream",
     "text": [
      "100%|██████████| 30/30 [00:29<00:00,  1.03it/s]\n"
     ]
    }
   ],
   "source": [
    "month6 = statcast('2023-09-01', '2023-09-30', verbose=True)\n",
    "\n",
    "month6.to_csv(\"2024month6.csv\")"
   ]
  }
 ],
 "metadata": {
  "kernelspec": {
   "display_name": "Python [conda env:base] *",
   "language": "python",
   "name": "conda-base-py"
  },
  "language_info": {
   "codemirror_mode": {
    "name": "ipython",
    "version": 3
   },
   "file_extension": ".py",
   "mimetype": "text/x-python",
   "name": "python",
   "nbconvert_exporter": "python",
   "pygments_lexer": "ipython3",
   "version": "3.11.5"
  }
 },
 "nbformat": 4,
 "nbformat_minor": 5
}
